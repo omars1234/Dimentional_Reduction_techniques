{
 "cells": [
  {
   "cell_type": "code",
   "execution_count": 2,
   "id": "75365d58",
   "metadata": {},
   "outputs": [],
   "source": [
    "import pandas as pd\n",
    "import numpy as np\n",
    "from matplotlib import pyplot as plt\n",
    "%matplotlib inline\n",
    "import matplotlib\n",
    "matplotlib.rcParams[\"figure.figsize\"]=(20,10)\n",
    "import seaborn as sns;sns.set()\n",
    "import warnings\n",
    "warnings.filterwarnings('ignore')\n",
    "import plotly.express as px\n",
    "from datetime import datetime,time\n",
    "import os"
   ]
  },
  {
   "cell_type": "code",
   "execution_count": 3,
   "id": "01c92abe",
   "metadata": {},
   "outputs": [
    {
     "data": {
      "text/html": [
       "<div>\n",
       "<style scoped>\n",
       "    .dataframe tbody tr th:only-of-type {\n",
       "        vertical-align: middle;\n",
       "    }\n",
       "\n",
       "    .dataframe tbody tr th {\n",
       "        vertical-align: top;\n",
       "    }\n",
       "\n",
       "    .dataframe thead th {\n",
       "        text-align: right;\n",
       "    }\n",
       "</style>\n",
       "<table border=\"1\" class=\"dataframe\">\n",
       "  <thead>\n",
       "    <tr style=\"text-align: right;\">\n",
       "      <th></th>\n",
       "      <th>symboling</th>\n",
       "      <th>normalized_losses</th>\n",
       "      <th>make</th>\n",
       "      <th>fuel_type</th>\n",
       "      <th>aspiration</th>\n",
       "      <th>num_of_doors</th>\n",
       "      <th>body_style</th>\n",
       "      <th>drive_wheels</th>\n",
       "      <th>engine_location</th>\n",
       "      <th>wheel_base</th>\n",
       "      <th>...</th>\n",
       "      <th>engine_size</th>\n",
       "      <th>fuel_system</th>\n",
       "      <th>bore</th>\n",
       "      <th>stroke</th>\n",
       "      <th>compression_ratio</th>\n",
       "      <th>horsepower</th>\n",
       "      <th>peak_rpm</th>\n",
       "      <th>city_mpg</th>\n",
       "      <th>highway_mpg</th>\n",
       "      <th>price</th>\n",
       "    </tr>\n",
       "  </thead>\n",
       "  <tbody>\n",
       "    <tr>\n",
       "      <th>0</th>\n",
       "      <td>3</td>\n",
       "      <td>94</td>\n",
       "      <td>alfa-romero</td>\n",
       "      <td>gas</td>\n",
       "      <td>std</td>\n",
       "      <td>two</td>\n",
       "      <td>convertible</td>\n",
       "      <td>rwd</td>\n",
       "      <td>front</td>\n",
       "      <td>88.6</td>\n",
       "      <td>...</td>\n",
       "      <td>130</td>\n",
       "      <td>mpfi</td>\n",
       "      <td>3.47</td>\n",
       "      <td>2.68</td>\n",
       "      <td>9.0</td>\n",
       "      <td>111</td>\n",
       "      <td>5000</td>\n",
       "      <td>21</td>\n",
       "      <td>27</td>\n",
       "      <td>13495</td>\n",
       "    </tr>\n",
       "    <tr>\n",
       "      <th>1</th>\n",
       "      <td>3</td>\n",
       "      <td>102</td>\n",
       "      <td>alfa-romero</td>\n",
       "      <td>gas</td>\n",
       "      <td>std</td>\n",
       "      <td>two</td>\n",
       "      <td>convertible</td>\n",
       "      <td>rwd</td>\n",
       "      <td>front</td>\n",
       "      <td>88.6</td>\n",
       "      <td>...</td>\n",
       "      <td>130</td>\n",
       "      <td>mpfi</td>\n",
       "      <td>3.47</td>\n",
       "      <td>2.68</td>\n",
       "      <td>9.0</td>\n",
       "      <td>111</td>\n",
       "      <td>5000</td>\n",
       "      <td>21</td>\n",
       "      <td>27</td>\n",
       "      <td>16500</td>\n",
       "    </tr>\n",
       "    <tr>\n",
       "      <th>2</th>\n",
       "      <td>1</td>\n",
       "      <td>128</td>\n",
       "      <td>alfa-romero</td>\n",
       "      <td>gas</td>\n",
       "      <td>std</td>\n",
       "      <td>two</td>\n",
       "      <td>hatchback</td>\n",
       "      <td>rwd</td>\n",
       "      <td>front</td>\n",
       "      <td>94.5</td>\n",
       "      <td>...</td>\n",
       "      <td>152</td>\n",
       "      <td>mpfi</td>\n",
       "      <td>2.68</td>\n",
       "      <td>3.47</td>\n",
       "      <td>9.0</td>\n",
       "      <td>154</td>\n",
       "      <td>5000</td>\n",
       "      <td>19</td>\n",
       "      <td>26</td>\n",
       "      <td>16500</td>\n",
       "    </tr>\n",
       "    <tr>\n",
       "      <th>3</th>\n",
       "      <td>2</td>\n",
       "      <td>164</td>\n",
       "      <td>audi</td>\n",
       "      <td>gas</td>\n",
       "      <td>std</td>\n",
       "      <td>four</td>\n",
       "      <td>sedan</td>\n",
       "      <td>fwd</td>\n",
       "      <td>front</td>\n",
       "      <td>99.8</td>\n",
       "      <td>...</td>\n",
       "      <td>109</td>\n",
       "      <td>mpfi</td>\n",
       "      <td>3.19</td>\n",
       "      <td>3.40</td>\n",
       "      <td>10.0</td>\n",
       "      <td>102</td>\n",
       "      <td>5500</td>\n",
       "      <td>24</td>\n",
       "      <td>30</td>\n",
       "      <td>13950</td>\n",
       "    </tr>\n",
       "    <tr>\n",
       "      <th>4</th>\n",
       "      <td>2</td>\n",
       "      <td>164</td>\n",
       "      <td>audi</td>\n",
       "      <td>gas</td>\n",
       "      <td>std</td>\n",
       "      <td>four</td>\n",
       "      <td>sedan</td>\n",
       "      <td>4wd</td>\n",
       "      <td>front</td>\n",
       "      <td>99.4</td>\n",
       "      <td>...</td>\n",
       "      <td>136</td>\n",
       "      <td>mpfi</td>\n",
       "      <td>3.19</td>\n",
       "      <td>3.40</td>\n",
       "      <td>8.0</td>\n",
       "      <td>115</td>\n",
       "      <td>5500</td>\n",
       "      <td>18</td>\n",
       "      <td>22</td>\n",
       "      <td>17450</td>\n",
       "    </tr>\n",
       "  </tbody>\n",
       "</table>\n",
       "<p>5 rows × 26 columns</p>\n",
       "</div>"
      ],
      "text/plain": [
       "   symboling  normalized_losses         make fuel_type aspiration  \\\n",
       "0          3                 94  alfa-romero       gas        std   \n",
       "1          3                102  alfa-romero       gas        std   \n",
       "2          1                128  alfa-romero       gas        std   \n",
       "3          2                164         audi       gas        std   \n",
       "4          2                164         audi       gas        std   \n",
       "\n",
       "  num_of_doors   body_style drive_wheels engine_location  wheel_base  ...  \\\n",
       "0          two  convertible          rwd           front        88.6  ...   \n",
       "1          two  convertible          rwd           front        88.6  ...   \n",
       "2          two    hatchback          rwd           front        94.5  ...   \n",
       "3         four        sedan          fwd           front        99.8  ...   \n",
       "4         four        sedan          4wd           front        99.4  ...   \n",
       "\n",
       "   engine_size  fuel_system  bore  stroke compression_ratio horsepower  \\\n",
       "0          130         mpfi  3.47    2.68               9.0        111   \n",
       "1          130         mpfi  3.47    2.68               9.0        111   \n",
       "2          152         mpfi  2.68    3.47               9.0        154   \n",
       "3          109         mpfi  3.19    3.40              10.0        102   \n",
       "4          136         mpfi  3.19    3.40               8.0        115   \n",
       "\n",
       "   peak_rpm city_mpg  highway_mpg  price  \n",
       "0      5000       21           27  13495  \n",
       "1      5000       21           27  16500  \n",
       "2      5000       19           26  16500  \n",
       "3      5500       24           30  13950  \n",
       "4      5500       18           22  17450  \n",
       "\n",
       "[5 rows x 26 columns]"
      ]
     },
     "execution_count": 3,
     "metadata": {},
     "output_type": "execute_result"
    }
   ],
   "source": [
    "df=pd.read_csv(r\"Data_set/new_cleaned_df.csv\")\n",
    "df.head()"
   ]
  },
  {
   "cell_type": "markdown",
   "id": "be9d2943",
   "metadata": {},
   "source": [
    "---\n",
    "### *Data Shape :*"
   ]
  },
  {
   "cell_type": "code",
   "execution_count": 4,
   "id": "a1185451",
   "metadata": {},
   "outputs": [
    {
     "data": {
      "text/plain": [
       "(205, 26)"
      ]
     },
     "execution_count": 4,
     "metadata": {},
     "output_type": "execute_result"
    }
   ],
   "source": [
    "df.shape"
   ]
  },
  {
   "cell_type": "markdown",
   "id": "798beedc",
   "metadata": {},
   "source": [
    "---\n",
    "### *Data Info :*"
   ]
  },
  {
   "cell_type": "code",
   "execution_count": 5,
   "id": "3d01a5a3",
   "metadata": {},
   "outputs": [
    {
     "name": "stdout",
     "output_type": "stream",
     "text": [
      "<class 'pandas.core.frame.DataFrame'>\n",
      "RangeIndex: 205 entries, 0 to 204\n",
      "Data columns (total 26 columns):\n",
      " #   Column             Non-Null Count  Dtype  \n",
      "---  ------             --------------  -----  \n",
      " 0   symboling          205 non-null    int64  \n",
      " 1   normalized_losses  205 non-null    int64  \n",
      " 2   make               205 non-null    object \n",
      " 3   fuel_type          205 non-null    object \n",
      " 4   aspiration         205 non-null    object \n",
      " 5   num_of_doors       205 non-null    object \n",
      " 6   body_style         205 non-null    object \n",
      " 7   drive_wheels       205 non-null    object \n",
      " 8   engine_location    205 non-null    object \n",
      " 9   wheel_base         205 non-null    float64\n",
      " 10  length             205 non-null    float64\n",
      " 11  width              205 non-null    float64\n",
      " 12  height             205 non-null    float64\n",
      " 13  curb_weight        205 non-null    int64  \n",
      " 14  engine_type        205 non-null    object \n",
      " 15  num_of_cylinders   205 non-null    object \n",
      " 16  engine_size        205 non-null    int64  \n",
      " 17  fuel_system        205 non-null    object \n",
      " 18  bore               205 non-null    float64\n",
      " 19  stroke             205 non-null    float64\n",
      " 20  compression_ratio  205 non-null    float64\n",
      " 21  horsepower         205 non-null    int64  \n",
      " 22  peak_rpm           205 non-null    int64  \n",
      " 23  city_mpg           205 non-null    int64  \n",
      " 24  highway_mpg        205 non-null    int64  \n",
      " 25  price              205 non-null    int64  \n",
      "dtypes: float64(7), int64(9), object(10)\n",
      "memory usage: 41.8+ KB\n"
     ]
    }
   ],
   "source": [
    "# Show info\n",
    "df.info()"
   ]
  },
  {
   "cell_type": "markdown",
   "id": "09bf41fa",
   "metadata": {},
   "source": [
    "---\n",
    "#### *Na-Values & Duplicated rows*"
   ]
  },
  {
   "cell_type": "code",
   "execution_count": 7,
   "id": "e59a0b23",
   "metadata": {},
   "outputs": [
    {
     "name": "stdout",
     "output_type": "stream",
     "text": [
      "The Total Number of Null Values are :  0\n",
      "The Total Number of duplicated rows are :  0\n"
     ]
    }
   ],
   "source": [
    "print(\"The Total Number of Null Values are : \", df.isna().sum().sum())\n",
    "print(\"The Total Number of duplicated rows are : \", df.duplicated().sum())"
   ]
  },
  {
   "cell_type": "code",
   "execution_count": 10,
   "id": "d77c2bf9",
   "metadata": {},
   "outputs": [],
   "source": [
    "categorical_features=df.select_dtypes(include=[\"object\"])\n",
    "numerical_features=df.select_dtypes(exclude=[\"object\"])"
   ]
  },
  {
   "cell_type": "code",
   "execution_count": 11,
   "id": "ebd64abb",
   "metadata": {},
   "outputs": [],
   "source": [
    "from sklearn.preprocessing import (\n",
    "        LabelEncoder,StandardScaler,PowerTransformer,StandardScaler,OneHotEncoder,OrdinalEncoder,RobustScaler,MinMaxScaler\n",
    "        )\n",
    "from sklearn.metrics import mean_squared_error\n",
    "from sklearn.compose import ColumnTransformer\n",
    "from sklearn.pipeline import Pipeline\n",
    "\n",
    "numeric_transformer = MinMaxScaler()\n",
    "oh_transformer = OneHotEncoder(sparse_output=False)\n",
    "ordinal_encoder = OrdinalEncoder()\n",
    "\n",
    "\n",
    "\n",
    "x=df.drop(\"fuel_type\",axis=1)\n",
    "y=df[\"fuel_type\"]\n",
    "y=y.map({'diesel' : 0,'gas': 1})\n",
    "\n",
    "categorical_features=x.select_dtypes(include=[\"object\"])\n",
    "numerical_features=x.select_dtypes(exclude=[\"object\"])\n",
    "\n",
    "\n",
    "oh_columns =categorical_features.columns.to_list()\n",
    "#or_columns = \n",
    "transform_columns = numerical_features.columns.to_list()\n",
    "num_features = numerical_features.columns.to_list()\n",
    "\n",
    "transform_pipe = Pipeline(steps=[\n",
    "                ('transformer', PowerTransformer(method='yeo-johnson'))\n",
    "\n",
    "            ])\n",
    "preprocessor = ColumnTransformer(\n",
    "                [\n",
    "                    (\"OneHotEncoder\", oh_transformer, oh_columns),\n",
    "                    # (\"Ordinal_Encoder\", ordinal_encoder, or_columns),\n",
    "                    (\"Transformer\", transform_pipe, transform_columns),\n",
    "                    (\"StandardScaler\", numeric_transformer, num_features),\n",
    "                    \n",
    "                ]\n",
    "            )\n",
    "\n",
    "preprocessed_data=preprocessor.fit_transform(x)"
   ]
  },
  {
   "cell_type": "code",
   "execution_count": 12,
   "id": "f3581650",
   "metadata": {},
   "outputs": [
    {
     "data": {
      "text/plain": [
       "(205, 90)"
      ]
     },
     "execution_count": 12,
     "metadata": {},
     "output_type": "execute_result"
    }
   ],
   "source": [
    "preprocessed_data.shape"
   ]
  },
  {
   "cell_type": "code",
   "execution_count": 13,
   "id": "70484f27",
   "metadata": {},
   "outputs": [],
   "source": [
    "from sklearn.decomposition import FactorAnalysis,PCA"
   ]
  },
  {
   "cell_type": "code",
   "execution_count": 14,
   "id": "808681e6",
   "metadata": {},
   "outputs": [
    {
     "name": "stderr",
     "output_type": "stream",
     "text": [
      "No artists with labels found to put in legend.  Note that artists whose label start with an underscore are ignored when legend() is called with no argument.\n"
     ]
    },
    {
     "name": "stdout",
     "output_type": "stream",
     "text": [
      "(205, 90)\n"
     ]
    },
    {
     "data": {
      "image/png": "[encoded data removed]",
      "text/plain": [
       "<Figure size 1800x400 with 2 Axes>"
      ]
     },
     "metadata": {},
     "output_type": "display_data"
    }
   ],
   "source": [
    "pca1=PCA()\n",
    "pca1_results=pca1.fit_transform(preprocessed_data)\n",
    "print(pca1_results.shape)\n",
    "plt.figure(figsize=(18, 4))\n",
    "plt.scatter(pca1_results[:, 0], pca1_results[:, 1],c=y,cmap='viridis')\n",
    "plt.legend()\n",
    "plt.title(\"pca1_results Prejection \")\n",
    "plt.xlabel(\"pca1_results Component 1\")\n",
    "plt.ylabel(\"pca1_results Component 2\")\n",
    "plt.colorbar()\n",
    "plt.grid(True)\n",
    "plt.show();"
   ]
  },
  {
   "cell_type": "code",
   "execution_count": 15,
   "id": "24e8d608",
   "metadata": {},
   "outputs": [
    {
     "data": {
      "image/png": "[encoded data removed]",
      "text/plain": [
       "<Figure size 2000x500 with 1 Axes>"
      ]
     },
     "metadata": {},
     "output_type": "display_data"
    }
   ],
   "source": [
    "plt.figure(figsize=(20, 5))\n",
    "plt.bar(range(1,len(pca1.explained_variance_)+1),pca1.explained_variance_,label=\"pca1_results Cummulative\\n Explained Variance \")\n",
    "plt.ylabel(\"Explained Variance\")\n",
    "plt.xlabel(\"Components\")\n",
    "plt.title(\"pca1\")\n",
    "plt.legend(loc=\"upper right\");"
   ]
  },
  {
   "cell_type": "code",
   "execution_count": 16,
   "id": "bd091e75",
   "metadata": {},
   "outputs": [
    {
     "data": {
      "image/png": "[encoded data removed]",
      "text/plain": [
       "<Figure size 1800x400 with 2 Axes>"
      ]
     },
     "metadata": {},
     "output_type": "display_data"
    }
   ],
   "source": [
    "pca_99=PCA(n_components=.99)\n",
    "pca_99_results=pca_99.fit_transform(preprocessed_data)\n",
    "plt.figure(figsize=(18, 4))\n",
    "plt.scatter(pca_99_results[:, 0], pca_99_results[:, 1],c=y,cmap='viridis',label=f\"with n_components=0.99 \\nthe best number of features :{pca_99_results.shape[1]}\")\n",
    "plt.legend()\n",
    "plt.title(\"pca_99_results Projection \")\n",
    "plt.xlabel(\"pca_99_results Component 1\")\n",
    "plt.ylabel(\"pca_99_results Component 2\")\n",
    "plt.colorbar()\n",
    "plt.grid(True)\n",
    "plt.show();\n"
   ]
  },
  {
   "cell_type": "code",
   "execution_count": 17,
   "id": "a362d904",
   "metadata": {},
   "outputs": [
    {
     "data": {
      "image/png": "[encoded data removed]",
      "text/plain": [
       "<Figure size 2000x500 with 1 Axes>"
      ]
     },
     "metadata": {},
     "output_type": "display_data"
    }
   ],
   "source": [
    "plt.figure(figsize=(20, 5))\n",
    "plt.bar(range(1,len(pca_99.explained_variance_)+1),pca_99.explained_variance_,label=\"pca_99_results Cummulative\\n Explained Variance \")\n",
    "plt.ylabel(\"Explained Variance\")\n",
    "plt.xlabel(\"Components\")\n",
    "plt.title(\"pca_99_results\")\n",
    "plt.legend(loc=\"upper right\");"
   ]
  },
  {
   "cell_type": "code",
   "execution_count": 18,
   "id": "541db884",
   "metadata": {},
   "outputs": [
    {
     "data": {
      "text/plain": [
       "19.930041709064895"
      ]
     },
     "execution_count": 18,
     "metadata": {},
     "output_type": "execute_result"
    }
   ],
   "source": [
    "np.sum(pca_99.explained_variance_)"
   ]
  },
  {
   "cell_type": "markdown",
   "id": "4464551f",
   "metadata": {},
   "source": [
    "---"
   ]
  },
  {
   "cell_type": "markdown",
   "id": "2311cb19",
   "metadata": {},
   "source": [
    "### *TSNE & UMAP*"
   ]
  },
  {
   "cell_type": "code",
   "execution_count": 19,
   "id": "da25062a",
   "metadata": {},
   "outputs": [],
   "source": [
    "from sklearn.manifold import TSNE\n",
    "import plotly.express as px"
   ]
  },
  {
   "cell_type": "code",
   "execution_count": 20,
   "id": "6844b6b8",
   "metadata": {},
   "outputs": [
    {
     "name": "stderr",
     "output_type": "stream",
     "text": [
      "No artists with labels found to put in legend.  Note that artists whose label start with an underscore are ignored when legend() is called with no argument.\n"
     ]
    },
    {
     "name": "stdout",
     "output_type": "stream",
     "text": [
      "(205, 2)\n"
     ]
    },
    {
     "data": {
      "image/png": "[encoded data removed]",
      "text/plain": [
       "<Figure size 1800x400 with 2 Axes>"
      ]
     },
     "metadata": {},
     "output_type": "display_data"
    }
   ],
   "source": [
    "tsne2=TSNE(n_components=2)\n",
    "tsne2_results=tsne2.fit_transform(preprocessed_data)\n",
    "print(tsne2_results.shape)\n",
    "plt.figure(figsize=(18, 4))\n",
    "plt.scatter(tsne2_results[:, 0], tsne2_results[:, 1],c=y,cmap='viridis')\n",
    "plt.legend()\n",
    "plt.title(\"tsne2_results Projection \")\n",
    "plt.xlabel(\"tsne2_results Component 1\")\n",
    "plt.ylabel(\"tsne2_results Component 2\")\n",
    "plt.colorbar()\n",
    "plt.grid(True)\n",
    "plt.show();"
   ]
  },
  {
   "cell_type": "code",
   "execution_count": 21,
   "id": "dfb57d58",
   "metadata": {},
   "outputs": [
    {
     "data": {
      "application/vnd.plotly.v1+json": {
       "config": {
        "plotlyServerURL": "https://plot.ly"
       },
       "data": [
        {
         "hovertemplate": "0=%{x}<br>1=%{y}<br>color=%{marker.color}<extra></extra>",
         "legendgroup": "",
         "marker": {
          "color": {
           "bdata": "AQEBAQEBAQEBAQEBAQEBAQEBAQEBAQEBAQEBAQEBAQEBAQEBAQEBAQEBAQEBAQEBAQEBAQEBAQEBAQEBAQEBAAEBAAAAAAABAQEBAQEBAQEBAQEBAQEBAQEBAAEBAQEBAQEBAQEBAQEBAQEBAAEAAQABAAEAAQEBAQEBAQEBAQEBAQEBAQEBAQEBAQEBAQEBAQEBAQEBAQEBAQEBAQEAAAEBAQEBAQEBAQEBAQEBAAEBAQEBAQEAAQABAQABAQEBAAEBAQEBAQEBAQEAAQ==",
           "dtype": "i1"
          },
          "coloraxis": "coloraxis",
          "symbol": "circle"
         },
         "mode": "markers",
         "name": "",
         "orientation": "v",
         "showlegend": false,
         "type": "scatter",
         "x": {
          "bdata": "TmLjQEJs40DJl3BApn2OP0XP7kALUNVA4JYCQetmBUFzRAlB7zVdPypwtECfVLlAoFNZQQrVWEH4VlRBvxQ9QW6WOUEM2kFBPwKFwTZ4WMEDJFDBIrpYwZXFUcGbB4zAS0FOwVEIR8FVkUXBfY1zwKSn6j+3o9m/ZlGDwZFug8HlY2/BQJB3wQSwd8HBy8LARX/XwKBRocAFlJ7Avd2FwL9LgMDDxETAeThrwEDhpMDInVrBZHg8wZCAnD9JnixB538sQZZ8BUHeWT7BtVc7wb9XOMFdPh7B8/kbwcOPqEF44KpBI9mnQS/upUERtSg/jSCOPfOnMz/o2SI+scxqwBN+Ez8KeEdBBcVKQU7Xc0GfQHpBTgR/QXWnckG8azJBVkTQQCpjLkEFByZBYlgtQfcuacFgVGHBvtNhwZyJkcCFCYTAefdiwMXm9L+FIOK/llTcv49MH8D+2BzAMU5FwAr2I8CUFB3BBP3PwEpcGMHGxA/BuMMBwRk8FMHYFinBelkMweAPAcHGcRnBRdxyv6n3kL/D8iNBkmomQc7lJEFw4ZhAL36RQNk+pECEYEpBlvJiQVFbRkEBX3RB20RYQYbeYEG7hF1BV2pxQQfQSkFALmBBuANWQUrHYMFfrZbASIVGwZdaN8HVTDTBR3X2P7rznL8Nr7JAyP+7QPrgu0AGkLtAxY/MQDJ96L7Hj9e+czydQI53w0Bj64NAHknFQI8vrkBfKsxAoDdKQGLBZUDLtnhAcXFkQH4VcUBzapBAKFquQN+lyUA2EIxAQ8uZQMYDp0D8Ks9AQN42wXuGMcH3RCnBVKEgwfnKH8GAcx/BbDUMwXnDFcGLUIrA+zmUwDzwF8FYHg/BD8MEweAj5sCRBuXAQRyKQAPaiUAm3BxA/GUqQDbYBUC1TTtAkDIZQPnyTkAB2gC/MHUvwONAXb14vcG+X2nbvPyYn0BO/p9AK7ZEQey+P0H0Nb7Aikllvw5ZsMD12G+/nStpvx3qn8Czc9a+Q7Cjv8yH0r/2avZA1OCKwGS6/r8ObnVB8c+AQcObdEFdsIBB21BqQfG7c0GWDG5B6FNkQT3yVkGhYWhBLgJoQQ==",
          "dtype": "f4"
         },
         "xaxis": "x",
         "y": {
          "bdata": "OIiUP7gukz+cvCHBZGJmwKh6/MCXrenAkfvrwAyQ1sAuP/nA00w5wdTqHcC0CRjAaq1PwLMxVsDwFILAXoHkwIeD7MCgQuHABcLOQDHnhEBb3RNAQd6rQDcItEAQuYZAmkjeQLVH+UAgOwBBmRuJQBxdB0ApEx3BcMGvQJpUiECN3o9AaadRQFcFT0B4LB3AHSMxwLBxpb9dqaW/oQAVwJ6wE8CY9hHAH8Eyv87HnD+Ff4s/NdcVQQxE08AqudW/7c7Tvy1JM8FqympAX52AQI8BgkAG23RAsU1xQPrqEMB1iuW/KEMawJIDLsDkai2/h0k+P5RzLr/C+zc/USogQdgdqj4IfwvBF/NuQDBiFT+bRIk/PNPZPjfeMD/wdYPAvxMtwehhb8CgDmfAGIITwQFHzkDCQthAEhzhQJ+vX0DnfSFAF8JYP4rjIMHS5yzBUo8xwf18XT/51FY/L0k2QEh5KUB/rbBAbtgkQQuOtkCjcZdAk3h6QAZ+uUBQKbNAMxyZQB5XeUA5QdxAOpCUPWtygz7TdMjAogXAwD+AxsDwSzTBrss3weHZKsFnUijB0Z1EQNLGM8EHLRpAIUQ1wQcmM0AneTjBCS0cQD1wJ8HgUyxA/WYbwV3nq0ByDXFA8j3VQGkM70ACyPlAISEUQC+iKcGje0XBfaZtwSJ4a8G+fWfBX5JJwS595z9ij0JAp4WdwDm2kcDFP4bAbByTwFA+tMDNbqvA4qIgQcz5HEHtjxxBvJXoQIyL8EB2McdALQHrQOwfyUAQJupAd//IQMwX8kAoIslApF0UQBNHFUCg6sc/tiuHv6CHxr/Weeq/Pb60P1xK9T+FLRZBo1AVQZxrej/eJwFAJTjNP/2rzUDKns5ApHAfv2i0HL+GxdfAxaDbwK818MCrsuTAvGP4wNfs+cCp19NA3CoSQXuBw0CikNNACorDQFBeGMFIkBjBjmO0wN5bsMCkAytBhd1pwBy8K0Fp2TTA54MzwNyZMUHSeTvAjv+bwNsBq8DKrt3ABLM4Qb3B/L8GzsvAvNzjwMfYzMAMAuTAdB0KwXVQC8GiE9vA/KX4wE3x0sCwCd+9Az7swA==",
          "dtype": "f4"
         },
         "yaxis": "y"
        }
       ],
       "layout": {
        "coloraxis": {
         "colorbar": {
          "title": {
           "text": "color"
          }
         },
         "colorscale": [
          [
           0,
           "#0d0887"
          ],
          [
           0.1111111111111111,
           "#46039f"
          ],
          [
           0.2222222222222222,
           "#7201a8"
          ],
          [
           0.3333333333333333,
           "#9c179e"
          ],
          [
           0.4444444444444444,
           "#bd3786"
          ],
          [
           0.5555555555555556,
           "#d8576b"
          ],
          [
           0.6666666666666666,
           "#ed7953"
          ],
          [
           0.7777777777777778,
           "#fb9f3a"
          ],
          [
           0.8888888888888888,
           "#fdca26"
          ],
          [
           1,
           "#f0f921"
          ]
         ]
        },
        "legend": {
         "title": {
          "text": "y"
         },
         "tracegroupgap": 0
        },
        "margin": {
         "t": 60
        },
        "template": {
         "data": {
          "bar": [
           {
            "error_x": {
             "color": "#2a3f5f"
            },
            "error_y": {
             "color": "#2a3f5f"
            },
            "marker": {
             "line": {
              "color": "#E5ECF6",
              "width": 0.5
             },
             "pattern": {
              "fillmode": "overlay",
              "size": 10,
              "solidity": 0.2
             }
            },
            "type": "bar"
           }
          ],
          "barpolar": [
           {
            "marker": {
             "line": {
              "color": "#E5ECF6",
              "width": 0.5
             },
             "pattern": {
              "fillmode": "overlay",
              "size": 10,
              "solidity": 0.2
             }
            },
            "type": "barpolar"
           }
          ],
          "carpet": [
           {
            "aaxis": {
             "endlinecolor": "#2a3f5f",
             "gridcolor": "white",
             "linecolor": "white",
             "minorgridcolor": "white",
             "startlinecolor": "#2a3f5f"
            },
            "baxis": {
             "endlinecolor": "#2a3f5f",
             "gridcolor": "white",
             "linecolor": "white",
             "minorgridcolor": "white",
             "startlinecolor": "#2a3f5f"
            },
            "type": "carpet"
           }
          ],
          "choropleth": [
           {
            "colorbar": {
             "outlinewidth": 0,
             "ticks": ""
            },
            "type": "choropleth"
           }
          ],
          "contour": [
           {
            "colorbar": {
             "outlinewidth": 0,
             "ticks": ""
            },
            "colorscale": [
             [
              0,
              "#0d0887"
             ],
             [
              0.1111111111111111,
              "#46039f"
             ],
             [
              0.2222222222222222,
              "#7201a8"
             ],
             [
              0.3333333333333333,
              "#9c179e"
             ],
             [
              0.4444444444444444,
              "#bd3786"
             ],
             [
              0.5555555555555556,
              "#d8576b"
             ],
             [
              0.6666666666666666,
              "#ed7953"
             ],
             [
              0.7777777777777778,
              "#fb9f3a"
             ],
             [
              0.8888888888888888,
              "#fdca26"
             ],
             [
              1,
              "#f0f921"
             ]
            ],
            "type": "contour"
           }
          ],
          "contourcarpet": [
           {
            "colorbar": {
             "outlinewidth": 0,
             "ticks": ""
            },
            "type": "contourcarpet"
           }
          ],
          "heatmap": [
           {
            "colorbar": {
             "outlinewidth": 0,
             "ticks": ""
            },
            "colorscale": [
             [
              0,
              "#0d0887"
             ],
             [
              0.1111111111111111,
              "#46039f"
             ],
             [
              0.2222222222222222,
              "#7201a8"
             ],
             [
              0.3333333333333333,
              "#9c179e"
             ],
             [
              0.4444444444444444,
              "#bd3786"
             ],
             [
              0.5555555555555556,
              "#d8576b"
             ],
             [
              0.6666666666666666,
              "#ed7953"
             ],
             [
              0.7777777777777778,
              "#fb9f3a"
             ],
             [
              0.8888888888888888,
              "#fdca26"
             ],
             [
              1,
              "#f0f921"
             ]
            ],
            "type": "heatmap"
           }
          ],
          "histogram": [
           {
            "marker": {
             "pattern": {
              "fillmode": "overlay",
              "size": 10,
              "solidity": 0.2
             }
            },
            "type": "histogram"
           }
          ],
          "histogram2d": [
           {
            "colorbar": {
             "outlinewidth": 0,
             "ticks": ""
            },
            "colorscale": [
             [
              0,
              "#0d0887"
             ],
             [
              0.1111111111111111,
              "#46039f"
             ],
             [
              0.2222222222222222,
              "#7201a8"
             ],
             [
              0.3333333333333333,
              "#9c179e"
             ],
             [
              0.4444444444444444,
              "#bd3786"
             ],
             [
              0.5555555555555556,
              "#d8576b"
             ],
             [
              0.6666666666666666,
              "#ed7953"
             ],
             [
              0.7777777777777778,
              "#fb9f3a"
             ],
             [
              0.8888888888888888,
              "#fdca26"
             ],
             [
              1,
              "#f0f921"
             ]
            ],
            "type": "histogram2d"
           }
          ],
          "histogram2dcontour": [
           {
            "colorbar": {
             "outlinewidth": 0,
             "ticks": ""
            },
            "colorscale": [
             [
              0,
              "#0d0887"
             ],
             [
              0.1111111111111111,
              "#46039f"
             ],
             [
              0.2222222222222222,
              "#7201a8"
             ],
             [
              0.3333333333333333,
              "#9c179e"
             ],
             [
              0.4444444444444444,
              "#bd3786"
             ],
             [
              0.5555555555555556,
              "#d8576b"
             ],
             [
              0.6666666666666666,
              "#ed7953"
             ],
             [
              0.7777777777777778,
              "#fb9f3a"
             ],
             [
              0.8888888888888888,
              "#fdca26"
             ],
             [
              1,
              "#f0f921"
             ]
            ],
            "type": "histogram2dcontour"
           }
          ],
          "mesh3d": [
           {
            "colorbar": {
             "outlinewidth": 0,
             "ticks": ""
            },
            "type": "mesh3d"
           }
          ],
          "parcoords": [
           {
            "line": {
             "colorbar": {
              "outlinewidth": 0,
              "ticks": ""
             }
            },
            "type": "parcoords"
           }
          ],
          "pie": [
           {
            "automargin": true,
            "type": "pie"
           }
          ],
          "scatter": [
           {
            "fillpattern": {
             "fillmode": "overlay",
             "size": 10,
             "solidity": 0.2
            },
            "type": "scatter"
           }
          ],
          "scatter3d": [
           {
            "line": {
             "colorbar": {
              "outlinewidth": 0,
              "ticks": ""
             }
            },
            "marker": {
             "colorbar": {
              "outlinewidth": 0,
              "ticks": ""
             }
            },
            "type": "scatter3d"
           }
          ],
          "scattercarpet": [
           {
            "marker": {
             "colorbar": {
              "outlinewidth": 0,
              "ticks": ""
             }
            },
            "type": "scattercarpet"
           }
          ],
          "scattergeo": [
           {
            "marker": {
             "colorbar": {
              "outlinewidth": 0,
              "ticks": ""
             }
            },
            "type": "scattergeo"
           }
          ],
          "scattergl": [
           {
            "marker": {
             "colorbar": {
              "outlinewidth": 0,
              "ticks": ""
             }
            },
            "type": "scattergl"
           }
          ],
          "scattermap": [
           {
            "marker": {
             "colorbar": {
              "outlinewidth": 0,
              "ticks": ""
             }
            },
            "type": "scattermap"
           }
          ],
          "scattermapbox": [
           {
            "marker": {
             "colorbar": {
              "outlinewidth": 0,
              "ticks": ""
             }
            },
            "type": "scattermapbox"
           }
          ],
          "scatterpolar": [
           {
            "marker": {
             "colorbar": {
              "outlinewidth": 0,
              "ticks": ""
             }
            },
            "type": "scatterpolar"
           }
          ],
          "scatterpolargl": [
           {
            "marker": {
             "colorbar": {
              "outlinewidth": 0,
              "ticks": ""
             }
            },
            "type": "scatterpolargl"
           }
          ],
          "scatterternary": [
           {
            "marker": {
             "colorbar": {
              "outlinewidth": 0,
              "ticks": ""
             }
            },
            "type": "scatterternary"
           }
          ],
          "surface": [
           {
            "colorbar": {
             "outlinewidth": 0,
             "ticks": ""
            },
            "colorscale": [
             [
              0,
              "#0d0887"
             ],
             [
              0.1111111111111111,
              "#46039f"
             ],
             [
              0.2222222222222222,
              "#7201a8"
             ],
             [
              0.3333333333333333,
              "#9c179e"
             ],
             [
              0.4444444444444444,
              "#bd3786"
             ],
             [
              0.5555555555555556,
              "#d8576b"
             ],
             [
              0.6666666666666666,
              "#ed7953"
             ],
             [
              0.7777777777777778,
              "#fb9f3a"
             ],
             [
              0.8888888888888888,
              "#fdca26"
             ],
             [
              1,
              "#f0f921"
             ]
            ],
            "type": "surface"
           }
          ],
          "table": [
           {
            "cells": {
             "fill": {
              "color": "#EBF0F8"
             },
             "line": {
              "color": "white"
             }
            },
            "header": {
             "fill": {
              "color": "#C8D4E3"
             },
             "line": {
              "color": "white"
             }
            },
            "type": "table"
           }
          ]
         },
         "layout": {
          "annotationdefaults": {
           "arrowcolor": "#2a3f5f",
           "arrowhead": 0,
           "arrowwidth": 1
          },
          "autotypenumbers": "strict",
          "coloraxis": {
           "colorbar": {
            "outlinewidth": 0,
            "ticks": ""
           }
          },
          "colorscale": {
           "diverging": [
            [
             0,
             "#8e0152"
            ],
            [
             0.1,
             "#c51b7d"
            ],
            [
             0.2,
             "#de77ae"
            ],
            [
             0.3,
             "#f1b6da"
            ],
            [
             0.4,
             "#fde0ef"
            ],
            [
             0.5,
             "#f7f7f7"
            ],
            [
             0.6,
             "#e6f5d0"
            ],
            [
             0.7,
             "#b8e186"
            ],
            [
             0.8,
             "#7fbc41"
            ],
            [
             0.9,
             "#4d9221"
            ],
            [
             1,
             "#276419"
            ]
           ],
           "sequential": [
            [
             0,
             "#0d0887"
            ],
            [
             0.1111111111111111,
             "#46039f"
            ],
            [
             0.2222222222222222,
             "#7201a8"
            ],
            [
             0.3333333333333333,
             "#9c179e"
            ],
            [
             0.4444444444444444,
             "#bd3786"
            ],
            [
             0.5555555555555556,
             "#d8576b"
            ],
            [
             0.6666666666666666,
             "#ed7953"
            ],
            [
             0.7777777777777778,
             "#fb9f3a"
            ],
            [
             0.8888888888888888,
             "#fdca26"
            ],
            [
             1,
             "#f0f921"
            ]
           ],
           "sequentialminus": [
            [
             0,
             "#0d0887"
            ],
            [
             0.1111111111111111,
             "#46039f"
            ],
            [
             0.2222222222222222,
             "#7201a8"
            ],
            [
             0.3333333333333333,
             "#9c179e"
            ],
            [
             0.4444444444444444,
             "#bd3786"
            ],
            [
             0.5555555555555556,
             "#d8576b"
            ],
            [
             0.6666666666666666,
             "#ed7953"
            ],
            [
             0.7777777777777778,
             "#fb9f3a"
            ],
            [
             0.8888888888888888,
             "#fdca26"
            ],
            [
             1,
             "#f0f921"
            ]
           ]
          },
          "colorway": [
           "#636efa",
           "#EF553B",
           "#00cc96",
           "#ab63fa",
           "#FFA15A",
           "#19d3f3",
           "#FF6692",
           "#B6E880",
           "#FF97FF",
           "#FECB52"
          ],
          "font": {
           "color": "#2a3f5f"
          },
          "geo": {
           "bgcolor": "white",
           "lakecolor": "white",
           "landcolor": "#E5ECF6",
           "showlakes": true,
           "showland": true,
           "subunitcolor": "white"
          },
          "hoverlabel": {
           "align": "left"
          },
          "hovermode": "closest",
          "mapbox": {
           "style": "light"
          },
          "paper_bgcolor": "white",
          "plot_bgcolor": "#E5ECF6",
          "polar": {
           "angularaxis": {
            "gridcolor": "white",
            "linecolor": "white",
            "ticks": ""
           },
           "bgcolor": "#E5ECF6",
           "radialaxis": {
            "gridcolor": "white",
            "linecolor": "white",
            "ticks": ""
           }
          },
          "scene": {
           "xaxis": {
            "backgroundcolor": "#E5ECF6",
            "gridcolor": "white",
            "gridwidth": 2,
            "linecolor": "white",
            "showbackground": true,
            "ticks": "",
            "zerolinecolor": "white"
           },
           "yaxis": {
            "backgroundcolor": "#E5ECF6",
            "gridcolor": "white",
            "gridwidth": 2,
            "linecolor": "white",
            "showbackground": true,
            "ticks": "",
            "zerolinecolor": "white"
           },
           "zaxis": {
            "backgroundcolor": "#E5ECF6",
            "gridcolor": "white",
            "gridwidth": 2,
            "linecolor": "white",
            "showbackground": true,
            "ticks": "",
            "zerolinecolor": "white"
           }
          },
          "shapedefaults": {
           "line": {
            "color": "#2a3f5f"
           }
          },
          "ternary": {
           "aaxis": {
            "gridcolor": "white",
            "linecolor": "white",
            "ticks": ""
           },
           "baxis": {
            "gridcolor": "white",
            "linecolor": "white",
            "ticks": ""
           },
           "bgcolor": "#E5ECF6",
           "caxis": {
            "gridcolor": "white",
            "linecolor": "white",
            "ticks": ""
           }
          },
          "title": {
           "x": 0.05
          },
          "xaxis": {
           "automargin": true,
           "gridcolor": "white",
           "linecolor": "white",
           "ticks": "",
           "title": {
            "standoff": 15
           },
           "zerolinecolor": "white",
           "zerolinewidth": 2
          },
          "yaxis": {
           "automargin": true,
           "gridcolor": "white",
           "linecolor": "white",
           "ticks": "",
           "title": {
            "standoff": 15
           },
           "zerolinecolor": "white",
           "zerolinewidth": 2
          }
         }
        },
        "title": {
         "text": "tsne2_results Projection"
        },
        "xaxis": {
         "anchor": "y",
         "domain": [
          0,
          1
         ],
         "title": {
          "text": "tsne2_results Component 1"
         }
        },
        "yaxis": {
         "anchor": "x",
         "domain": [
          0,
          1
         ],
         "title": {
          "text": "tsne2_results Component 2"
         }
        }
       }
      }
     },
     "metadata": {},
     "output_type": "display_data"
    }
   ],
   "source": [
    "tsne2=TSNE(n_components=2)\n",
    "tsne2_results=tsne2.fit_transform(preprocessed_data)\n",
    "fig=px.scatter(\n",
    "    tsne2_results,x=0,y=1,color=y\n",
    ")\n",
    "fig.update_layout(\n",
    "    title_text=\"tsne2_results Projection\",\n",
    "    xaxis_title_text=\"tsne2_results Component 1\",\n",
    "    yaxis_title_text=\"tsne2_results Component 2\",\n",
    "    legend_title_text='y'    \n",
    ")\n",
    "fig.show()\n"
   ]
  },
  {
   "cell_type": "code",
   "execution_count": 22,
   "id": "0de6590c",
   "metadata": {},
   "outputs": [
    {
     "data": {
      "application/vnd.plotly.v1+json": {
       "config": {
        "plotlyServerURL": "https://plot.ly"
       },
       "data": [
        {
         "hovertemplate": "0=%{x}<br>1=%{y}<br>2=%{z}<br>color=%{marker.color}<extra></extra>",
         "legendgroup": "",
         "marker": {
          "color": {
           "bdata": "AQEBAQEBAQEBAQEBAQEBAQEBAQEBAQEBAQEBAQEBAQEBAQEBAQEBAQEBAQEBAQEBAQEBAQEBAQEBAQEBAQEBAAEBAAAAAAABAQEBAQEBAQEBAQEBAQEBAQEBAAEBAQEBAQEBAQEBAQEBAQEBAAEAAQABAAEAAQEBAQEBAQEBAQEBAQEBAQEBAQEBAQEBAQEBAQEBAQEBAQEBAQEBAQEAAAEBAQEBAQEBAQEBAQEBAAEBAQEBAQEAAQABAQABAQEBAAEBAQEBAQEBAQEAAQ==",
           "dtype": "i1"
          },
          "coloraxis": "coloraxis",
          "symbol": "circle"
         },
         "mode": "markers",
         "name": "",
         "scene": "scene",
         "showlegend": false,
         "type": "scatter3d",
         "x": {
          "bdata": "8d0dwJTCVr8fshdBn3wMQDqrP0H/nh5BCeCHQdu6kUHHIJ5BwaMbQcZyGUGWjU1BS7+kQbEsxkFocddBiZ7PQZZIw0F0kO1Bv4gHwj1Iq8ECYVzBty/awTrIs8FeL+TBCJi/wWGmkMF/8IXBhaHTwbTnh0D6eWvBBhsSwitcCcJedObBj6vtwWSG1sGni5zBZHSIwaQ2oMFNHajBJSZewX2DhMHIFiDBu9uBwRQa7sC4txfB0hMnwQBrPMAZH/xBwcDuQZ/3skFD8q3B2bO2wSAxk8F11kDB+RzTwC0j3MCBq93AVrEfwcB1i8CE7UfAjkZqwA32hMCnyNO/mQeAPsI+Yb8pBKZBDdPLQHU+sUEkAMdB1gfjQbdttkFZlA5C2vOKQdOdEUKZAANCTFuEQYCuAcKg2fTBahrbwSH4ssEfL5TBsI4xwdFuosFKv4/BnmpbwbCcRsGRpU7Bz06rwXChr8FvyYTB/m4fwGAyi8EQezbB3znywI7TccEhjLjBBAwfwfCzi8CYdazBrG/0wAYzHMHwVapB643EQZglvUG2wO5AgEMnQSwyREFznJpBf0MiQdK5vkFAyItBw6CeQebWVEHETclB9b6IQY8jv0ETxE9B9t/3Qc7N1sG45dfBij68weOQh8HqOT/BU3EyQPirmcFHRvFAuNK0QG+yF0GUOPJA8WhaQa5xpMDOig/BK3yrQL6V90B2N2FAm9MRQVKpLkHlWF9BgwQswVViDMH/CnfApLLfQFGNlECsDUhBZ/kBQQeye0GqEtBA/dNUQbht70AjA3BBoGiGwQmsdcFuoB/BSBr/wAzJs8DsM1XAdLFMwB8XC8Ebn0vAI73cwOffucC/vJXAB92+v3OvScGsD4fBTZPuQGJzIkFxNCZACYIcwFkgVj/hTSlASsRFQMntAkELbxfCRAiKP1QVBMLJSwHCDZAKwp4D/kBpmE1B1u75QVXl/kGjVCZA53bDwPU2s7/afBnBVqSxwHqYbEA7QmvAkcstwRnoScHs7GtBO1j6QFJEM8B5Eb9BLo76Qc1Vx0FUoftB/nIQQmGIEUIA5cNBkELuQbvw6UFcRqRBQpXaQQ==",
          "dtype": "f4"
         },
         "y": {
          "bdata": "2WwxQd7IeUHiosxB1lGmQTO7t0GSyNZBftKlQQD52UGyw7JBn4IIQr3WET+EIOU+uPTFQS4o00F4P6JBvoQyQVp/9kCct8hAFCUrwYnol8EfpanBin+qwTZjmMGUnIBB12TTwRTd48G2JcnBImY/QUSuzkB/kMI+M9eNwS7VzMHt+ovBWt3FwW+13MH3ovVAwBwTQdnh/0AikFRButMpQXqrdUEXnYJBOP9DQUCok8Biy+HBNiz0wcB0PEFQHTi+AqkJQPKXO0GH3qjAKtgnweJqNsGzkYvB42KLwTM56UGQ5O5BEw3IQb9Ku0EvqopAfuyYPpfyFkFs/wBAqvGWwQcYz0AUHZRAI7B+wfAihsHsu0fB6o5ywRSMLcHHskVBI/KKQe7F+0BTkkBBFrehQMDHfcED963B8zyEwW9WcEHxXB9BuaYOQY8hL0AWJtJA/g97QFQKxj/f28NAzj3hQBswXUDOcLbAkPaWwUiaQcHhhy3B6I+pwPZI7MClr/rAGm1QwU0wD8HwvinBFGX7QGxRK0AvWY5BjJWsQZRHeEGuwZNBGrinQXScqUHAKSFB+ms/wQt4L0HwbmDBJ3FZQIJlhMFpCihA+bsMwVHz/UC5JjHBcFodQcNkZsHnUTtBzJ+7wcWRpcH8g73BjW/6QOZrjj7DwCxBMbjwQO4AKkF83bxAVCAKQb7XBkGWWyhBbuxgQQkPMUFkZqdBfyx/QYDUPUEGfkFBX4kCwUlNIsBhParATyVAweKG38CPK+vAoH8Ov96xnD7UmNDATaimwMTLID7eFF5ArSJEwaWG1sDSyxvB3MckvR4Ef0BWM7BApoZdwe54NcFkbMnBoGOwwc+QmMEfaeDA3IhHwUm+LsFhtxbBvzoSwa/4L8H7pP8+a4FVQKjQDkFuDBZA56bwQMZAokDMVohAvFy5wWa2y0Ckt45AmK4kQRbki0GGk3xBWH6CQdafl0Gp8bLBziqlQeWr0sGRBKZB8ZeEQdQn2sEvabBB46ypQU3Ni0Ey0LZBekG2wQeQg0E2stDA4G3YwP6p6cBzv37AJ6ieQOPc9D4ZOI+/ZZgeQKY2EEHpioXBJ4khvw==",
          "dtype": "f4"
         },
         "z": {
          "bdata": "ZB3/Qfnf/EEnDHlBfapTwBiL8cBcZfS/FI15wPwiQ8DTmQ7Bd3cjwB+Asj9IYCPA1PR5QeI+VEF8uWVBFYA/QWjAhEFTF1FBQRiNwTSphsGu0JjBlUVCweTPCsHKcAtBhAPhwOEOTcDuiwTBYeuXQBQRL8ENsKVBe6N0wYmDecEc+53BHP2zwbkIlsHdZ3/BDnatwRJ38MD6PPDAgl09wTfYWMHgpVvB79rlvylFmEAPo4PBp8cAwaJ3U0G2R6tBPGfMQU+QwUFM0nrBCRSawbp+ccGhmzXBSFkUwZysqkGkJXRBZ7WZQS2QpUGUyLRAiriXv+vkiECKjsfACBUtQR5g0b+WR09AIbRVQd40gkFl3KJB2ONsQXUbZEGUqmRBKXvTQaFlkUGgt6pBMzsUQaQ638BYwI7A794fwFd2MUFlQV9BglMrQQ5Xn0ETEMZBx+zdQXeAokC1PTZAnMT2QEMtP0AKSwXBSuftP9Djs8DsigvBLt4hwb4QDsCrBbTAo4dOwGbW3sAHFXs/5uNowJ+IosDQ5+NAkYZfQCJlKEACNcdBZmLoQVnqrUHqAdjAgK+kQSy3N8E1N71B2JEUwTdpj0EHBT3BJoilQYUvpMA+RHFBLUi9wBvPPcF0QE9B9FzlvoyYkb8tQh/A93uAwWPo00E65MRBoGgZQuLBDkLpFANCzB3QQRlZM8FqeKpBDaG0QImJer8RQM9Aq2UHvxcr/UD3QxhAWs4Kwo/QDcJiwwnCMQbGwWxRs8ENdbHBFs2wwYsOqsFT/+fB7ovewY+64sG7P8/B8PC+wXK3qcFlRsXBHqTDwYyMp8G5js7BQiCrwQDCjsE0ADxBLbsRQal3k8F7xZXBogJ5wbgR00DKiBRBd+qzv1v0ncDdjWFBuMOEQQg5mUFUCqNB3MdZQesTiUEcdxDBN2aJQVF2U8FKAdrA2CoRwR4BhEEsjodBcDLNQJ6ioz+F46U/+1tMPkTEVECkMLHAd3CiwF6r0kBAx+rApPmlQF0lG0GEmsk/lawJQYFUW8Hd5lxAUfsTQLJBJsB7SzvA2Dv0PhAppUCz25y+mrbuPyo+nEAX3xVBMfHSQA==",
          "dtype": "f4"
         }
        }
       ],
       "layout": {
        "coloraxis": {
         "colorbar": {
          "title": {
           "text": "color"
          }
         },
         "colorscale": [
          [
           0,
           "#0d0887"
          ],
          [
           0.1111111111111111,
           "#46039f"
          ],
          [
           0.2222222222222222,
           "#7201a8"
          ],
          [
           0.3333333333333333,
           "#9c179e"
          ],
          [
           0.4444444444444444,
           "#bd3786"
          ],
          [
           0.5555555555555556,
           "#d8576b"
          ],
          [
           0.6666666666666666,
           "#ed7953"
          ],
          [
           0.7777777777777778,
           "#fb9f3a"
          ],
          [
           0.8888888888888888,
           "#fdca26"
          ],
          [
           1,
           "#f0f921"
          ]
         ]
        },
        "legend": {
         "title": {
          "text": "y"
         },
         "tracegroupgap": 0
        },
        "margin": {
         "t": 60
        },
        "scene": {
         "domain": {
          "x": [
           0,
           1
          ],
          "y": [
           0,
           1
          ]
         },
         "xaxis": {
          "title": {
           "text": "0"
          }
         },
         "yaxis": {
          "title": {
           "text": "1"
          }
         },
         "zaxis": {
          "title": {
           "text": "2"
          }
         }
        },
        "template": {
         "data": {
          "bar": [
           {
            "error_x": {
             "color": "#2a3f5f"
            },
            "error_y": {
             "color": "#2a3f5f"
            },
            "marker": {
             "line": {
              "color": "#E5ECF6",
              "width": 0.5
             },
             "pattern": {
              "fillmode": "overlay",
              "size": 10,
              "solidity": 0.2
             }
            },
            "type": "bar"
           }
          ],
          "barpolar": [
           {
            "marker": {
             "line": {
              "color": "#E5ECF6",
              "width": 0.5
             },
             "pattern": {
              "fillmode": "overlay",
              "size": 10,
              "solidity": 0.2
             }
            },
            "type": "barpolar"
           }
          ],
          "carpet": [
           {
            "aaxis": {
             "endlinecolor": "#2a3f5f",
             "gridcolor": "white",
             "linecolor": "white",
             "minorgridcolor": "white",
             "startlinecolor": "#2a3f5f"
            },
            "baxis": {
             "endlinecolor": "#2a3f5f",
             "gridcolor": "white",
             "linecolor": "white",
             "minorgridcolor": "white",
             "startlinecolor": "#2a3f5f"
            },
            "type": "carpet"
           }
          ],
          "choropleth": [
           {
            "colorbar": {
             "outlinewidth": 0,
             "ticks": ""
            },
            "type": "choropleth"
           }
          ],
          "contour": [
           {
            "colorbar": {
             "outlinewidth": 0,
             "ticks": ""
            },
            "colorscale": [
             [
              0,
              "#0d0887"
             ],
             [
              0.1111111111111111,
              "#46039f"
             ],
             [
              0.2222222222222222,
              "#7201a8"
             ],
             [
              0.3333333333333333,
              "#9c179e"
             ],
             [
              0.4444444444444444,
              "#bd3786"
             ],
             [
              0.5555555555555556,
              "#d8576b"
             ],
             [
              0.6666666666666666,
              "#ed7953"
             ],
             [
              0.7777777777777778,
              "#fb9f3a"
             ],
             [
              0.8888888888888888,
              "#fdca26"
             ],
             [
              1,
              "#f0f921"
             ]
            ],
            "type": "contour"
           }
          ],
          "contourcarpet": [
           {
            "colorbar": {
             "outlinewidth": 0,
             "ticks": ""
            },
            "type": "contourcarpet"
           }
          ],
          "heatmap": [
           {
            "colorbar": {
             "outlinewidth": 0,
             "ticks": ""
            },
            "colorscale": [
             [
              0,
              "#0d0887"
             ],
             [
              0.1111111111111111,
              "#46039f"
             ],
             [
              0.2222222222222222,
              "#7201a8"
             ],
             [
              0.3333333333333333,
              "#9c179e"
             ],
             [
              0.4444444444444444,
              "#bd3786"
             ],
             [
              0.5555555555555556,
              "#d8576b"
             ],
             [
              0.6666666666666666,
              "#ed7953"
             ],
             [
              0.7777777777777778,
              "#fb9f3a"
             ],
             [
              0.8888888888888888,
              "#fdca26"
             ],
             [
              1,
              "#f0f921"
             ]
            ],
            "type": "heatmap"
           }
          ],
          "histogram": [
           {
            "marker": {
             "pattern": {
              "fillmode": "overlay",
              "size": 10,
              "solidity": 0.2
             }
            },
            "type": "histogram"
           }
          ],
          "histogram2d": [
           {
            "colorbar": {
             "outlinewidth": 0,
             "ticks": ""
            },
            "colorscale": [
             [
              0,
              "#0d0887"
             ],
             [
              0.1111111111111111,
              "#46039f"
             ],
             [
              0.2222222222222222,
              "#7201a8"
             ],
             [
              0.3333333333333333,
              "#9c179e"
             ],
             [
              0.4444444444444444,
              "#bd3786"
             ],
             [
              0.5555555555555556,
              "#d8576b"
             ],
             [
              0.6666666666666666,
              "#ed7953"
             ],
             [
              0.7777777777777778,
              "#fb9f3a"
             ],
             [
              0.8888888888888888,
              "#fdca26"
             ],
             [
              1,
              "#f0f921"
             ]
            ],
            "type": "histogram2d"
           }
          ],
          "histogram2dcontour": [
           {
            "colorbar": {
             "outlinewidth": 0,
             "ticks": ""
            },
            "colorscale": [
             [
              0,
              "#0d0887"
             ],
             [
              0.1111111111111111,
              "#46039f"
             ],
             [
              0.2222222222222222,
              "#7201a8"
             ],
             [
              0.3333333333333333,
              "#9c179e"
             ],
             [
              0.4444444444444444,
              "#bd3786"
             ],
             [
              0.5555555555555556,
              "#d8576b"
             ],
             [
              0.6666666666666666,
              "#ed7953"
             ],
             [
              0.7777777777777778,
              "#fb9f3a"
             ],
             [
              0.8888888888888888,
              "#fdca26"
             ],
             [
              1,
              "#f0f921"
             ]
            ],
            "type": "histogram2dcontour"
           }
          ],
          "mesh3d": [
           {
            "colorbar": {
             "outlinewidth": 0,
             "ticks": ""
            },
            "type": "mesh3d"
           }
          ],
          "parcoords": [
           {
            "line": {
             "colorbar": {
              "outlinewidth": 0,
              "ticks": ""
             }
            },
            "type": "parcoords"
           }
          ],
          "pie": [
           {
            "automargin": true,
            "type": "pie"
           }
          ],
          "scatter": [
           {
            "fillpattern": {
             "fillmode": "overlay",
             "size": 10,
             "solidity": 0.2
            },
            "type": "scatter"
           }
          ],
          "scatter3d": [
           {
            "line": {
             "colorbar": {
              "outlinewidth": 0,
              "ticks": ""
             }
            },
            "marker": {
             "colorbar": {
              "outlinewidth": 0,
              "ticks": ""
             }
            },
            "type": "scatter3d"
           }
          ],
          "scattercarpet": [
           {
            "marker": {
             "colorbar": {
              "outlinewidth": 0,
              "ticks": ""
             }
            },
            "type": "scattercarpet"
           }
          ],
          "scattergeo": [
           {
            "marker": {
             "colorbar": {
              "outlinewidth": 0,
              "ticks": ""
             }
            },
            "type": "scattergeo"
           }
          ],
          "scattergl": [
           {
            "marker": {
             "colorbar": {
              "outlinewidth": 0,
              "ticks": ""
             }
            },
            "type": "scattergl"
           }
          ],
          "scattermap": [
           {
            "marker": {
             "colorbar": {
              "outlinewidth": 0,
              "ticks": ""
             }
            },
            "type": "scattermap"
           }
          ],
          "scattermapbox": [
           {
            "marker": {
             "colorbar": {
              "outlinewidth": 0,
              "ticks": ""
             }
            },
            "type": "scattermapbox"
           }
          ],
          "scatterpolar": [
           {
            "marker": {
             "colorbar": {
              "outlinewidth": 0,
              "ticks": ""
             }
            },
            "type": "scatterpolar"
           }
          ],
          "scatterpolargl": [
           {
            "marker": {
             "colorbar": {
              "outlinewidth": 0,
              "ticks": ""
             }
            },
            "type": "scatterpolargl"
           }
          ],
          "scatterternary": [
           {
            "marker": {
             "colorbar": {
              "outlinewidth": 0,
              "ticks": ""
             }
            },
            "type": "scatterternary"
           }
          ],
          "surface": [
           {
            "colorbar": {
             "outlinewidth": 0,
             "ticks": ""
            },
            "colorscale": [
             [
              0,
              "#0d0887"
             ],
             [
              0.1111111111111111,
              "#46039f"
             ],
             [
              0.2222222222222222,
              "#7201a8"
             ],
             [
              0.3333333333333333,
              "#9c179e"
             ],
             [
              0.4444444444444444,
              "#bd3786"
             ],
             [
              0.5555555555555556,
              "#d8576b"
             ],
             [
              0.6666666666666666,
              "#ed7953"
             ],
             [
              0.7777777777777778,
              "#fb9f3a"
             ],
             [
              0.8888888888888888,
              "#fdca26"
             ],
             [
              1,
              "#f0f921"
             ]
            ],
            "type": "surface"
           }
          ],
          "table": [
           {
            "cells": {
             "fill": {
              "color": "#EBF0F8"
             },
             "line": {
              "color": "white"
             }
            },
            "header": {
             "fill": {
              "color": "#C8D4E3"
             },
             "line": {
              "color": "white"
             }
            },
            "type": "table"
           }
          ]
         },
         "layout": {
          "annotationdefaults": {
           "arrowcolor": "#2a3f5f",
           "arrowhead": 0,
           "arrowwidth": 1
          },
          "autotypenumbers": "strict",
          "coloraxis": {
           "colorbar": {
            "outlinewidth": 0,
            "ticks": ""
           }
          },
          "colorscale": {
           "diverging": [
            [
             0,
             "#8e0152"
            ],
            [
             0.1,
             "#c51b7d"
            ],
            [
             0.2,
             "#de77ae"
            ],
            [
             0.3,
             "#f1b6da"
            ],
            [
             0.4,
             "#fde0ef"
            ],
            [
             0.5,
             "#f7f7f7"
            ],
            [
             0.6,
             "#e6f5d0"
            ],
            [
             0.7,
             "#b8e186"
            ],
            [
             0.8,
             "#7fbc41"
            ],
            [
             0.9,
             "#4d9221"
            ],
            [
             1,
             "#276419"
            ]
           ],
           "sequential": [
            [
             0,
             "#0d0887"
            ],
            [
             0.1111111111111111,
             "#46039f"
            ],
            [
             0.2222222222222222,
             "#7201a8"
            ],
            [
             0.3333333333333333,
             "#9c179e"
            ],
            [
             0.4444444444444444,
             "#bd3786"
            ],
            [
             0.5555555555555556,
             "#d8576b"
            ],
            [
             0.6666666666666666,
             "#ed7953"
            ],
            [
             0.7777777777777778,
             "#fb9f3a"
            ],
            [
             0.8888888888888888,
             "#fdca26"
            ],
            [
             1,
             "#f0f921"
            ]
           ],
           "sequentialminus": [
            [
             0,
             "#0d0887"
            ],
            [
             0.1111111111111111,
             "#46039f"
            ],
            [
             0.2222222222222222,
             "#7201a8"
            ],
            [
             0.3333333333333333,
             "#9c179e"
            ],
            [
             0.4444444444444444,
             "#bd3786"
            ],
            [
             0.5555555555555556,
             "#d8576b"
            ],
            [
             0.6666666666666666,
             "#ed7953"
            ],
            [
             0.7777777777777778,
             "#fb9f3a"
            ],
            [
             0.8888888888888888,
             "#fdca26"
            ],
            [
             1,
             "#f0f921"
            ]
           ]
          },
          "colorway": [
           "#636efa",
           "#EF553B",
           "#00cc96",
           "#ab63fa",
           "#FFA15A",
           "#19d3f3",
           "#FF6692",
           "#B6E880",
           "#FF97FF",
           "#FECB52"
          ],
          "font": {
           "color": "#2a3f5f"
          },
          "geo": {
           "bgcolor": "white",
           "lakecolor": "white",
           "landcolor": "#E5ECF6",
           "showlakes": true,
           "showland": true,
           "subunitcolor": "white"
          },
          "hoverlabel": {
           "align": "left"
          },
          "hovermode": "closest",
          "mapbox": {
           "style": "light"
          },
          "paper_bgcolor": "white",
          "plot_bgcolor": "#E5ECF6",
          "polar": {
           "angularaxis": {
            "gridcolor": "white",
            "linecolor": "white",
            "ticks": ""
           },
           "bgcolor": "#E5ECF6",
           "radialaxis": {
            "gridcolor": "white",
            "linecolor": "white",
            "ticks": ""
           }
          },
          "scene": {
           "xaxis": {
            "backgroundcolor": "#E5ECF6",
            "gridcolor": "white",
            "gridwidth": 2,
            "linecolor": "white",
            "showbackground": true,
            "ticks": "",
            "zerolinecolor": "white"
           },
           "yaxis": {
            "backgroundcolor": "#E5ECF6",
            "gridcolor": "white",
            "gridwidth": 2,
            "linecolor": "white",
            "showbackground": true,
            "ticks": "",
            "zerolinecolor": "white"
           },
           "zaxis": {
            "backgroundcolor": "#E5ECF6",
            "gridcolor": "white",
            "gridwidth": 2,
            "linecolor": "white",
            "showbackground": true,
            "ticks": "",
            "zerolinecolor": "white"
           }
          },
          "shapedefaults": {
           "line": {
            "color": "#2a3f5f"
           }
          },
          "ternary": {
           "aaxis": {
            "gridcolor": "white",
            "linecolor": "white",
            "ticks": ""
           },
           "baxis": {
            "gridcolor": "white",
            "linecolor": "white",
            "ticks": ""
           },
           "bgcolor": "#E5ECF6",
           "caxis": {
            "gridcolor": "white",
            "linecolor": "white",
            "ticks": ""
           }
          },
          "title": {
           "x": 0.05
          },
          "xaxis": {
           "automargin": true,
           "gridcolor": "white",
           "linecolor": "white",
           "ticks": "",
           "title": {
            "standoff": 15
           },
           "zerolinecolor": "white",
           "zerolinewidth": 2
          },
          "yaxis": {
           "automargin": true,
           "gridcolor": "white",
           "linecolor": "white",
           "ticks": "",
           "title": {
            "standoff": 15
           },
           "zerolinecolor": "white",
           "zerolinewidth": 2
          }
         }
        },
        "title": {
         "text": "tsne3_results Projection"
        }
       }
      }
     },
     "metadata": {},
     "output_type": "display_data"
    }
   ],
   "source": [
    "tsne3=TSNE(n_components=3)\n",
    "tsne3_results=tsne3.fit_transform(preprocessed_data)\n",
    "fig=px.scatter_3d(\n",
    "    tsne3_results,x=0,y=1,z=2,color=y\n",
    ")\n",
    "fig.update_layout(\n",
    "    title_text=\"tsne3_results Projection\",\n",
    "    legend_title_text='y'    \n",
    ")\n",
    "fig.show()"
   ]
  },
  {
   "cell_type": "code",
   "execution_count": 23,
   "id": "d51b8445",
   "metadata": {},
   "outputs": [
    {
     "data": {
      "application/vnd.plotly.v1+json": {
       "config": {
        "plotlyServerURL": "https://plot.ly"
       },
       "data": [
        {
         "hovertemplate": "0=%{x}<br>1=%{y}<br>color=%{marker.color}<extra></extra>",
         "legendgroup": "",
         "marker": {
          "color": {
           "bdata": "AQEBAQEBAQEBAQEBAQEBAQEBAQEBAQEBAQEBAQEBAQEBAQEBAQEBAQEBAQEBAQEBAQEBAQEBAQEBAQEBAQEBAAEBAAAAAAABAQEBAQEBAQEBAQEBAQEBAQEBAAEBAQEBAQEBAQEBAQEBAQEBAAEAAQABAAEAAQEBAQEBAQEBAQEBAQEBAQEBAQEBAQEBAQEBAQEBAQEBAQEBAQEBAQEAAAEBAQEBAQEBAQEBAQEBAAEBAQEBAQEAAQABAQABAQEBAAEBAQEBAQEBAQEAAQ==",
           "dtype": "i1"
          },
          "coloraxis": "coloraxis",
          "symbol": "circle"
         },
         "mode": "markers",
         "name": "",
         "orientation": "v",
         "showlegend": false,
         "type": "scatter",
         "x": {
          "bdata": "ZXN8QDCJeUDJEE5A1dikQLvTXkCNm21Aq79SQFVrXED1alBAI050QL5blEAQskJAMSQxQCSRKkB/5h1AWRMDQIVrAkBsFOc/+lUbQeabGkFu6R5BcGAgQTAWHkEYDNJA3QojQXmaHkEFWyBBpdnSQLqN20A3sJFAuckbQb5HFkHLYRpBmaAVQXSGEkFude1AJw3vQMwj40D6e95AlarlQAh940BNudxA1/rYQLME1UD9rRtBTGQeQaXlhkBg7vM/7+PxP+AcIkA0XSJBFE0fQUsSHUGcmhhBTPkZQWB/rUCIkatAgFurQEI2qkCYhclAJ1/ZQGbAykARKdVAmw4HQT2520DFhgxAAvcMQAtT0T+LWdI/fhLNP+Pl0z86++M/UcU8QLV/4z9lv+4/A4FTQB6GIEFdWB9Bl1QhQSvuz0B2a8ZAzFbBQBPFk0CPCZBAxUuRQGq9zEC8dM5AnpDQQCIL00DACxVBQxcLQf+OEkHNcBNBa+gVQRPwFEFYxBRB0xUUQS6fF0HVixJBfR3bQFzo10DdkiJAVQsXQDdeJUAoq1JAXxVIQFXiQEBbXh9ADYf1P4DxGEC6DNo/csAiQNt+7j87zAxAaG3fP2ubGkDuh/I/TDsUQObSHkExltFApLogQbfIIEH9Jx9B+A/jQHYzkUCtA2pAp8dlQPK3akA3SGdAzo5kQDqg1UDqRcxAAVd4QDiJcUBvFIJAIgtoQO5zakCyPmFAVo8zQTDKM0HlbDJB3s01Qdp2NEHS4TRBZUQ1QRS9N0H8WTRBSAs4QQO6NUFUfDZB0jskQYZNI0GQSiNBg3keQZOnHkFRpB1Bd0wcQQGLH0FBoQpBlAoLQai5G0E58x1B8XUaQbjJDkGvAw1BFMKtQHP7rUBf94FAppOAQFVVgUDHjoBAH8V6QDCec0AjZ+9ATpECQQ8k60Dz1O1Ax1TsQMLaUEDcUExAYPQJQCAeHkDD1AtBD5S0QNc3CkFABrhAb9i5QPGFCEENZbRAuvSzQMyOvUChtlxAAA8GQWzu0UDca9Q/3qO9P+dV0D/SPcI/DMjbP1UJzT+KDOQ/0hzaP2Oy4j9KYco/9jTsPw==",
          "dtype": "f4"
         },
         "xaxis": "x",
         "y": {
          "bdata": "0i/4QNSF90DyH/BAmVOoQPYJpUB9qKhAIR6lQFn9q0CiHKdAg8SpQGaUuECO3JtAx0DAQIokskBahrZAbdS3QIClv0BPOLxAxjLeQA2d0UD9GKZAEQzVQIIt1UCo38xAKuLKQA/exkAxaMJACAvMQBTWhUB9lNVA+8ngQJDC2UC2jNhA3UXZQDba1EBh9bRAV1KzQJixtkBGlrdAQBSsQPtlrkD8tKlAfnyyQH+FnUA/cLVAMci9QFXe5kBfYMJAq9fBQHn+3kC7UqxADaqvQMJvsEAT8KJATqKhQCs9zUDecNBAJ8jMQN3LzkBUaZNARIiRQEP8kUDNQYxAZTOLQJdXiUCfrqFA/E5GQJOePEBf50BAdYI5QPmHQ0C0GL5AbTXxQEPzwUAg8sJAzlTLQETx0kA6J9RAWEnPQBK1zEA/BctACRGzQE3z1kApw9JAksTSQPFfnkCnvKFAjJvDQP4rtkBSvqhASoeUQBkSsECzsqZA/AWcQFE+rECHtLRA8/ykQF6znEDjl7BAg5+TQJVjkkAtvbhAw9q4QJmiuUCXl/VA4+n1QNz590AmsJdAsbFLQMQnlUBea0FAABGRQB8SQ0AlhJZASE8+QNujmECHWEdA0QKaQLId10AsFMxAL+bLQGN/xECbb8BAxImBQOzY00DvqPJAFAwAQWkr/0CsUv5ABM/5QKaijkDJwq1Aw9XDQHY4t0A+c7xAIZC5QDcKx0ARVr5A1+lkQLEEXkB3I19A61pJQPZxSkCmgzVAt2U7QKQsNECCxj9ArM4zQO54QUAL6jhAqFGbQEczmUCOS5RA8ZeHQKI1h0CsLYVAtGGQQOHqj0B+cI1AdriLQLahlUDqPpBAa9iPQCDNrUD3wbNAuB65QHGjwUDi/OVARqLqQHhS5UCzsuhAiBrmQJLX50CBYoBAgTWGQFqwg0BnE4BAa0ODQK5C7kBlRe1AllmxQHv9s0BZRZJArZakQKQCjUDg76BAXf2dQJgWj0DSx6JAih+wQD41vEAVoqlAH1eRQN4enUBhjJ9Avh+bQOnBoEA095tA8RGjQGbYn0BaiKFAPfaiQNUpq0BbcUVADPufQA==",
          "dtype": "f4"
         },
         "yaxis": "y"
        }
       ],
       "layout": {
        "coloraxis": {
         "colorbar": {
          "title": {
           "text": "color"
          }
         },
         "colorscale": [
          [
           0,
           "#0d0887"
          ],
          [
           0.1111111111111111,
           "#46039f"
          ],
          [
           0.2222222222222222,
           "#7201a8"
          ],
          [
           0.3333333333333333,
           "#9c179e"
          ],
          [
           0.4444444444444444,
           "#bd3786"
          ],
          [
           0.5555555555555556,
           "#d8576b"
          ],
          [
           0.6666666666666666,
           "#ed7953"
          ],
          [
           0.7777777777777778,
           "#fb9f3a"
          ],
          [
           0.8888888888888888,
           "#fdca26"
          ],
          [
           1,
           "#f0f921"
          ]
         ]
        },
        "legend": {
         "title": {
          "text": "y"
         },
         "tracegroupgap": 0
        },
        "margin": {
         "t": 60
        },
        "template": {
         "data": {
          "bar": [
           {
            "error_x": {
             "color": "#2a3f5f"
            },
            "error_y": {
             "color": "#2a3f5f"
            },
            "marker": {
             "line": {
              "color": "#E5ECF6",
              "width": 0.5
             },
             "pattern": {
              "fillmode": "overlay",
              "size": 10,
              "solidity": 0.2
             }
            },
            "type": "bar"
           }
          ],
          "barpolar": [
           {
            "marker": {
             "line": {
              "color": "#E5ECF6",
              "width": 0.5
             },
             "pattern": {
              "fillmode": "overlay",
              "size": 10,
              "solidity": 0.2
             }
            },
            "type": "barpolar"
           }
          ],
          "carpet": [
           {
            "aaxis": {
             "endlinecolor": "#2a3f5f",
             "gridcolor": "white",
             "linecolor": "white",
             "minorgridcolor": "white",
             "startlinecolor": "#2a3f5f"
            },
            "baxis": {
             "endlinecolor": "#2a3f5f",
             "gridcolor": "white",
             "linecolor": "white",
             "minorgridcolor": "white",
             "startlinecolor": "#2a3f5f"
            },
            "type": "carpet"
           }
          ],
          "choropleth": [
           {
            "colorbar": {
             "outlinewidth": 0,
             "ticks": ""
            },
            "type": "choropleth"
           }
          ],
          "contour": [
           {
            "colorbar": {
             "outlinewidth": 0,
             "ticks": ""
            },
            "colorscale": [
             [
              0,
              "#0d0887"
             ],
             [
              0.1111111111111111,
              "#46039f"
             ],
             [
              0.2222222222222222,
              "#7201a8"
             ],
             [
              0.3333333333333333,
              "#9c179e"
             ],
             [
              0.4444444444444444,
              "#bd3786"
             ],
             [
              0.5555555555555556,
              "#d8576b"
             ],
             [
              0.6666666666666666,
              "#ed7953"
             ],
             [
              0.7777777777777778,
              "#fb9f3a"
             ],
             [
              0.8888888888888888,
              "#fdca26"
             ],
             [
              1,
              "#f0f921"
             ]
            ],
            "type": "contour"
           }
          ],
          "contourcarpet": [
           {
            "colorbar": {
             "outlinewidth": 0,
             "ticks": ""
            },
            "type": "contourcarpet"
           }
          ],
          "heatmap": [
           {
            "colorbar": {
             "outlinewidth": 0,
             "ticks": ""
            },
            "colorscale": [
             [
              0,
              "#0d0887"
             ],
             [
              0.1111111111111111,
              "#46039f"
             ],
             [
              0.2222222222222222,
              "#7201a8"
             ],
             [
              0.3333333333333333,
              "#9c179e"
             ],
             [
              0.4444444444444444,
              "#bd3786"
             ],
             [
              0.5555555555555556,
              "#d8576b"
             ],
             [
              0.6666666666666666,
              "#ed7953"
             ],
             [
              0.7777777777777778,
              "#fb9f3a"
             ],
             [
              0.8888888888888888,
              "#fdca26"
             ],
             [
              1,
              "#f0f921"
             ]
            ],
            "type": "heatmap"
           }
          ],
          "histogram": [
           {
            "marker": {
             "pattern": {
              "fillmode": "overlay",
              "size": 10,
              "solidity": 0.2
             }
            },
            "type": "histogram"
           }
          ],
          "histogram2d": [
           {
            "colorbar": {
             "outlinewidth": 0,
             "ticks": ""
            },
            "colorscale": [
             [
              0,
              "#0d0887"
             ],
             [
              0.1111111111111111,
              "#46039f"
             ],
             [
              0.2222222222222222,
              "#7201a8"
             ],
             [
              0.3333333333333333,
              "#9c179e"
             ],
             [
              0.4444444444444444,
              "#bd3786"
             ],
             [
              0.5555555555555556,
              "#d8576b"
             ],
             [
              0.6666666666666666,
              "#ed7953"
             ],
             [
              0.7777777777777778,
              "#fb9f3a"
             ],
             [
              0.8888888888888888,
              "#fdca26"
             ],
             [
              1,
              "#f0f921"
             ]
            ],
            "type": "histogram2d"
           }
          ],
          "histogram2dcontour": [
           {
            "colorbar": {
             "outlinewidth": 0,
             "ticks": ""
            },
            "colorscale": [
             [
              0,
              "#0d0887"
             ],
             [
              0.1111111111111111,
              "#46039f"
             ],
             [
              0.2222222222222222,
              "#7201a8"
             ],
             [
              0.3333333333333333,
              "#9c179e"
             ],
             [
              0.4444444444444444,
              "#bd3786"
             ],
             [
              0.5555555555555556,
              "#d8576b"
             ],
             [
              0.6666666666666666,
              "#ed7953"
             ],
             [
              0.7777777777777778,
              "#fb9f3a"
             ],
             [
              0.8888888888888888,
              "#fdca26"
             ],
             [
              1,
              "#f0f921"
             ]
            ],
            "type": "histogram2dcontour"
           }
          ],
          "mesh3d": [
           {
            "colorbar": {
             "outlinewidth": 0,
             "ticks": ""
            },
            "type": "mesh3d"
           }
          ],
          "parcoords": [
           {
            "line": {
             "colorbar": {
              "outlinewidth": 0,
              "ticks": ""
             }
            },
            "type": "parcoords"
           }
          ],
          "pie": [
           {
            "automargin": true,
            "type": "pie"
           }
          ],
          "scatter": [
           {
            "fillpattern": {
             "fillmode": "overlay",
             "size": 10,
             "solidity": 0.2
            },
            "type": "scatter"
           }
          ],
          "scatter3d": [
           {
            "line": {
             "colorbar": {
              "outlinewidth": 0,
              "ticks": ""
             }
            },
            "marker": {
             "colorbar": {
              "outlinewidth": 0,
              "ticks": ""
             }
            },
            "type": "scatter3d"
           }
          ],
          "scattercarpet": [
           {
            "marker": {
             "colorbar": {
              "outlinewidth": 0,
              "ticks": ""
             }
            },
            "type": "scattercarpet"
           }
          ],
          "scattergeo": [
           {
            "marker": {
             "colorbar": {
              "outlinewidth": 0,
              "ticks": ""
             }
            },
            "type": "scattergeo"
           }
          ],
          "scattergl": [
           {
            "marker": {
             "colorbar": {
              "outlinewidth": 0,
              "ticks": ""
             }
            },
            "type": "scattergl"
           }
          ],
          "scattermap": [
           {
            "marker": {
             "colorbar": {
              "outlinewidth": 0,
              "ticks": ""
             }
            },
            "type": "scattermap"
           }
          ],
          "scattermapbox": [
           {
            "marker": {
             "colorbar": {
              "outlinewidth": 0,
              "ticks": ""
             }
            },
            "type": "scattermapbox"
           }
          ],
          "scatterpolar": [
           {
            "marker": {
             "colorbar": {
              "outlinewidth": 0,
              "ticks": ""
             }
            },
            "type": "scatterpolar"
           }
          ],
          "scatterpolargl": [
           {
            "marker": {
             "colorbar": {
              "outlinewidth": 0,
              "ticks": ""
             }
            },
            "type": "scatterpolargl"
           }
          ],
          "scatterternary": [
           {
            "marker": {
             "colorbar": {
              "outlinewidth": 0,
              "ticks": ""
             }
            },
            "type": "scatterternary"
           }
          ],
          "surface": [
           {
            "colorbar": {
             "outlinewidth": 0,
             "ticks": ""
            },
            "colorscale": [
             [
              0,
              "#0d0887"
             ],
             [
              0.1111111111111111,
              "#46039f"
             ],
             [
              0.2222222222222222,
              "#7201a8"
             ],
             [
              0.3333333333333333,
              "#9c179e"
             ],
             [
              0.4444444444444444,
              "#bd3786"
             ],
             [
              0.5555555555555556,
              "#d8576b"
             ],
             [
              0.6666666666666666,
              "#ed7953"
             ],
             [
              0.7777777777777778,
              "#fb9f3a"
             ],
             [
              0.8888888888888888,
              "#fdca26"
             ],
             [
              1,
              "#f0f921"
             ]
            ],
            "type": "surface"
           }
          ],
          "table": [
           {
            "cells": {
             "fill": {
              "color": "#EBF0F8"
             },
             "line": {
              "color": "white"
             }
            },
            "header": {
             "fill": {
              "color": "#C8D4E3"
             },
             "line": {
              "color": "white"
             }
            },
            "type": "table"
           }
          ]
         },
         "layout": {
          "annotationdefaults": {
           "arrowcolor": "#2a3f5f",
           "arrowhead": 0,
           "arrowwidth": 1
          },
          "autotypenumbers": "strict",
          "coloraxis": {
           "colorbar": {
            "outlinewidth": 0,
            "ticks": ""
           }
          },
          "colorscale": {
           "diverging": [
            [
             0,
             "#8e0152"
            ],
            [
             0.1,
             "#c51b7d"
            ],
            [
             0.2,
             "#de77ae"
            ],
            [
             0.3,
             "#f1b6da"
            ],
            [
             0.4,
             "#fde0ef"
            ],
            [
             0.5,
             "#f7f7f7"
            ],
            [
             0.6,
             "#e6f5d0"
            ],
            [
             0.7,
             "#b8e186"
            ],
            [
             0.8,
             "#7fbc41"
            ],
            [
             0.9,
             "#4d9221"
            ],
            [
             1,
             "#276419"
            ]
           ],
           "sequential": [
            [
             0,
             "#0d0887"
            ],
            [
             0.1111111111111111,
             "#46039f"
            ],
            [
             0.2222222222222222,
             "#7201a8"
            ],
            [
             0.3333333333333333,
             "#9c179e"
            ],
            [
             0.4444444444444444,
             "#bd3786"
            ],
            [
             0.5555555555555556,
             "#d8576b"
            ],
            [
             0.6666666666666666,
             "#ed7953"
            ],
            [
             0.7777777777777778,
             "#fb9f3a"
            ],
            [
             0.8888888888888888,
             "#fdca26"
            ],
            [
             1,
             "#f0f921"
            ]
           ],
           "sequentialminus": [
            [
             0,
             "#0d0887"
            ],
            [
             0.1111111111111111,
             "#46039f"
            ],
            [
             0.2222222222222222,
             "#7201a8"
            ],
            [
             0.3333333333333333,
             "#9c179e"
            ],
            [
             0.4444444444444444,
             "#bd3786"
            ],
            [
             0.5555555555555556,
             "#d8576b"
            ],
            [
             0.6666666666666666,
             "#ed7953"
            ],
            [
             0.7777777777777778,
             "#fb9f3a"
            ],
            [
             0.8888888888888888,
             "#fdca26"
            ],
            [
             1,
             "#f0f921"
            ]
           ]
          },
          "colorway": [
           "#636efa",
           "#EF553B",
           "#00cc96",
           "#ab63fa",
           "#FFA15A",
           "#19d3f3",
           "#FF6692",
           "#B6E880",
           "#FF97FF",
           "#FECB52"
          ],
          "font": {
           "color": "#2a3f5f"
          },
          "geo": {
           "bgcolor": "white",
           "lakecolor": "white",
           "landcolor": "#E5ECF6",
           "showlakes": true,
           "showland": true,
           "subunitcolor": "white"
          },
          "hoverlabel": {
           "align": "left"
          },
          "hovermode": "closest",
          "mapbox": {
           "style": "light"
          },
          "paper_bgcolor": "white",
          "plot_bgcolor": "#E5ECF6",
          "polar": {
           "angularaxis": {
            "gridcolor": "white",
            "linecolor": "white",
            "ticks": ""
           },
           "bgcolor": "#E5ECF6",
           "radialaxis": {
            "gridcolor": "white",
            "linecolor": "white",
            "ticks": ""
           }
          },
          "scene": {
           "xaxis": {
            "backgroundcolor": "#E5ECF6",
            "gridcolor": "white",
            "gridwidth": 2,
            "linecolor": "white",
            "showbackground": true,
            "ticks": "",
            "zerolinecolor": "white"
           },
           "yaxis": {
            "backgroundcolor": "#E5ECF6",
            "gridcolor": "white",
            "gridwidth": 2,
            "linecolor": "white",
            "showbackground": true,
            "ticks": "",
            "zerolinecolor": "white"
           },
           "zaxis": {
            "backgroundcolor": "#E5ECF6",
            "gridcolor": "white",
            "gridwidth": 2,
            "linecolor": "white",
            "showbackground": true,
            "ticks": "",
            "zerolinecolor": "white"
           }
          },
          "shapedefaults": {
           "line": {
            "color": "#2a3f5f"
           }
          },
          "ternary": {
           "aaxis": {
            "gridcolor": "white",
            "linecolor": "white",
            "ticks": ""
           },
           "baxis": {
            "gridcolor": "white",
            "linecolor": "white",
            "ticks": ""
           },
           "bgcolor": "#E5ECF6",
           "caxis": {
            "gridcolor": "white",
            "linecolor": "white",
            "ticks": ""
           }
          },
          "title": {
           "x": 0.05
          },
          "xaxis": {
           "automargin": true,
           "gridcolor": "white",
           "linecolor": "white",
           "ticks": "",
           "title": {
            "standoff": 15
           },
           "zerolinecolor": "white",
           "zerolinewidth": 2
          },
          "yaxis": {
           "automargin": true,
           "gridcolor": "white",
           "linecolor": "white",
           "ticks": "",
           "title": {
            "standoff": 15
           },
           "zerolinecolor": "white",
           "zerolinewidth": 2
          }
         }
        },
        "title": {
         "text": "umap_2d_results Projection"
        },
        "xaxis": {
         "anchor": "y",
         "domain": [
          0,
          1
         ],
         "title": {
          "text": "umap_2d_results Component 1"
         }
        },
        "yaxis": {
         "anchor": "x",
         "domain": [
          0,
          1
         ],
         "title": {
          "text": "umap_2d_results Component 2"
         }
        }
       }
      }
     },
     "metadata": {},
     "output_type": "display_data"
    }
   ],
   "source": [
    "from umap import UMAP\n",
    "umap_2d=UMAP(n_components=2)\n",
    "umap_2d_results=umap_2d.fit_transform(preprocessed_data)\n",
    "fig=px.scatter(\n",
    "    umap_2d_results,x=0,y=1,color=y\n",
    ")\n",
    "fig.update_layout(\n",
    "    title_text=\"umap_2d_results Projection\",\n",
    "    xaxis_title_text=\"umap_2d_results Component 1\",\n",
    "    yaxis_title_text=\"umap_2d_results Component 2\",\n",
    "    legend_title_text='y'    \n",
    ")\n",
    "fig.show()"
   ]
  },
  {
   "cell_type": "code",
   "execution_count": 25,
   "id": "bf5a050f",
   "metadata": {},
   "outputs": [
    {
     "name": "stderr",
     "output_type": "stream",
     "text": [
      "No artists with labels found to put in legend.  Note that artists whose label start with an underscore are ignored when legend() is called with no argument.\n"
     ]
    },
    {
     "data": {
      "image/png": "[encoded data removed]",
      "text/plain": [
       "<Figure size 1800x400 with 2 Axes>"
      ]
     },
     "metadata": {},
     "output_type": "display_data"
    }
   ],
   "source": [
    "plt.figure(figsize=(18, 4))\n",
    "plt.scatter(umap_2d_results[:, 0], umap_2d_results[:, 1],c=y,cmap='viridis')\n",
    "plt.legend()\n",
    "plt.title(\"umap_2d_results Projection \")\n",
    "plt.xlabel(\"umap_2d_results Component 1\")\n",
    "plt.ylabel(\"umap_2d_results Component 2\")\n",
    "plt.colorbar()\n",
    "plt.grid(True)\n",
    "plt.show();"
   ]
  },
  {
   "cell_type": "code",
   "execution_count": 24,
   "id": "5093f7c0",
   "metadata": {},
   "outputs": [
    {
     "data": {
      "application/vnd.plotly.v1+json": {
       "config": {
        "plotlyServerURL": "https://plot.ly"
       },
       "data": [
        {
         "hovertemplate": "0=%{x}<br>1=%{y}<br>2=%{z}<br>color=%{marker.color}<extra></extra>",
         "legendgroup": "",
         "marker": {
          "color": {
           "bdata": "AQEBAQEBAQEBAQEBAQEBAQEBAQEBAQEBAQEBAQEBAQEBAQEBAQEBAQEBAQEBAQEBAQEBAQEBAQEBAQEBAQEBAAEBAAAAAAABAQEBAQEBAQEBAQEBAQEBAQEBAAEBAQEBAQEBAQEBAQEBAQEBAAEAAQABAAEAAQEBAQEBAQEBAQEBAQEBAQEBAQEBAQEBAQEBAQEBAQEBAQEBAQEBAQEAAAEBAQEBAQEBAQEBAQEBAAEBAQEBAQEAAQABAQABAQEBAAEBAQEBAQEBAQEAAQ==",
           "dtype": "i1"
          },
          "coloraxis": "coloraxis",
          "symbol": "circle"
         },
         "mode": "markers",
         "name": "",
         "scene": "scene",
         "showlegend": false,
         "type": "scatter3d",
         "x": {
          "bdata": "VUJ2QBYed0Bv6mJAe+R/QMh5IkD5FipADPIZQLw4IEAm2hZA1fYyQIn1cEDW/F5AaQ3rPy9L2T/h79Q/JH+oP4+suD/K0oI/3zL7QHel9EDBZOtAgCH1QMft70DuMbhAI9bvQPGX60BABOhAxf2+QLE70kC+TKVAifj3QEyL8UDn1fZA8jvtQCOo7UAU/bZAh5+6QEJHtUDq4rdAgkyyQGtsskCB4q1ApNW1QHqb0kBwh+pANAzkQFdZjEAfm5Y/bmSVP1fPA0DPuvBA6jbuQAxY70BoGuNA7F7gQBIEjED90opAegGNQJ9yiUDlG8VALI7RQC4Ow0BVk89AuZ3PQMRgzkAVp7I/8RcaQIRa5z90F9Y/aujpP33D6T8SIoY/XuBLQFCuZz+3bJA/OdA0QDJY8UDXne5AArHrQNmlu0ALnLRAYm23QI1DqkDOIKtA3feoQDOhykDhkclAgUW/QKqsxECwOttABbnLQC9W00DSptZA+ZXYQKZs2kCHd9lAx2zSQEzE1UBkV9NAjK/GQEj4x0BXRdo/b7bWP2E15D+X9V9AB2ZaQEdMU0B409k/qRECQH+d4T+wwf0/IMvNPxabA0Cj4b8/0IjoP83Y4D99dwVAnaDSPy2s8kDVkLlAo3rrQHQi5kCNNONAORTUQMnNqECPK3BAk05dQMIeW0CIO1dAtr9cQK5ByEAdUaxAxfNKQKgaQUC60FhAP7w+QGCGRkDWeTpAq0AEQc8fB0EnyQVBQLMHQSLVCkHN7QpBNmYKQUzkCkHpnwhB534KQXLZCEEINwpBNo70QLaw8UC71PBALXzlQOsl6ECaDehAcx7jQPqo6kC0wtJApl/VQNd55kAGMOtAeXPhQE8G00BxkNNAQBuOQFE3jEBJ/YhAHP+MQOPtiUAOPoVAHUSEQDfIfkCCH9ZApAPQQDJr0kC+fdRAxg/TQA6nakAngmFAS8WxP9cAzT/np8tAv1qXQKDoy0B23aBAPfqhQIbUyED45Z1ADz+VQET9l0CZhR1AI5jFQOlnrkCvWE4/zHxQPzjfXj/+PVQ/DyVQP6X3UD/A+Io/tytoP4jRgz9F2O8/NEpoPw==",
          "dtype": "f4"
         },
         "y": {
          "bdata": "geCUQMyykkA3p4pAN9cfQIpVJ0ANACFA/X4yQJW8LkCs4ixAuP0nQAFBN0BI3CdAbU5FQCsrPkAbnT5AqKhBQBlrTUDbzkFAQVIDQN721T+PmmQ//Wb2P3Yw6j/UF2xATaEBQMvt7D+XI+A/tV5tQLgFC0DBeY5AA8IFQOPpFUBa4gxAOZkXQHU0G0CsrRtA35AVQEPuNUAS6zVAEaQfQKzmG0AasCBAhhQ+QPQILUAEhpE/XIe/P/kbgkASlk5AeeJVQLyAdED4cK4/joq6P+qowD+UsX8/j7VeP82uWUCYdVtAiKpXQNimX0AF+jNA9J8VQBLzLkDjvRpAWCbBPlo4GUBenihA5NpIPwzOeD+Xklw/Jm93P1MfhT9tgVNA+x+NQMf4VEAdb1hAWnxXQBvRAkBOu/w//6j+P/HXb0BdgHRAJRdQQMqgiUCdCYlAngGKQBp5O0DuZjhAn+1mQIgbUkAGxJk/EyZaPoS5oT9Z3mk/ZY1sPy0FlT+VTMc/DGCHP8ptbT8+QbA/D98aQNK/GEDsnDVAGrJEQEAIPEBEQI9AXEOSQM49jEAYfRxALcJJP55MGEDfxGg/xqoVQCQgTD+1ABVA74qHP1Y3GkChHlU/+k0eQAVa7j+PUG9AcaPwP1ux2D9Ct9I/I7L6P3Vpi0CUHo5A6uuXQGv5lUCN2JFAM/GNQH8DGkCp91lA8x9EQCGIN0DKlT9A2Xs6QHeLSEBL3EdAr59mP3QsQT9AXE0/9VUhP0lmDz+Yrj0/4sQrPxeAUT/gvxo/kNNFP7EbMT+361Q/t9KaP4z4kT/PUIA/FkSQP2KImj9km5U/W9M/P0Z5TT+9zNY+7VKePhHUKT8ajkk/D6M2Pyr+uT/lUdk/0ao2QAPiPUCoSYtAe92JQIo3iEC4KI5APDWIQJ1zi0BoRso/DCEeP24PvD/e1ME/A+HEPwLsh0BS/4lAG1gzQK82NkBpXhY+aZsaQPm6Sz6JcAZAPSsGQO53VT5RvApAHw4nQFaTQEA85jVAJvsTPs59DUABDxZAD2wUQJBeGkDDqRhAfFUkQAHuJEDW2B9ALK4sQPXDJkCZAn8/yMYnQA==",
          "dtype": "f4"
         },
         "z": {
          "bdata": "k+zjQIMj5kB1AvtA8Z8AQR3d/kAkWgBBCIX6QI0S/kD2s/tAF0ICQWzl+kAJ7fpA9QbuQCds8EBEhPNAaD37QDQO/UDV3ftAwxQqQQq6JkH3JiJBkzQrQR2oK0HBhwNBrCQ0QQmGMkFF5jJB5gMFQaBt+ECsbvBAGXgsQTW0KkEEgydByl0lQZpcJkF1/gpB4RINQdmyCEGRrQVBHK0FQTqyBUH/IgRBsGMBQdkq+kDm2iVBt8EwQQNT7kD31v9AjW/+QOPT+UDA8B1BVbIfQeTOIEHkBx9BPOAeQcDB/kDtuP1AJBz/QFke/EDCN/NAojz1QI3j70Dww/JAASMGQTWU8EAuCetAzpDPQJEs0UDBlc9ASgDRQI2IzUCRLf5AymHzQCA7+0Dzx/9AvqPpQMKPLkH5LC5BNc0uQaBBBEHpoP1A247zQPjw70BhF+1A4tzuQMpP+UC6mfdASwwBQcgoAEG0kSJB/PILQQxuIUHuGiFBbUscQcccIkF1FyBBnuAgQVnDHEEKyiJBh+31QKah/EAb6QBB5EgCQTb//0B2gPZAlX31QJR59kC6auVAcyLMQP2O30CPZ8dAgIfdQEnnykAk/t5AS0HIQCcn5EDkTspAGGLiQHgcLEG+8QNBc4oyQTjdMEHwWzBB57H6QOz27kD4pe1Alx3mQMcb5UBxY+dAcXPvQKqd90CpJPZAidzxQOym9UA7cPNANd3zQI+z8ECQvPBAGDsOQYJuCkFR5AtBjYwIQdlKCEFgKQVBLQMHQQ8UBEFcHwhBA4sEQT5KB0H3kgNBu0kaQV7LGEE8qxZBfrISQbvjD0GJkg9BWLIVQbQeFUH0DghBiOwKQcOIF0EFbxJB27MTQaTgHEGWjBpBBP0BQSz4AEF1O+ZAbxvnQAZA6kBX4+NAhYPrQLGe6ECCpv5A4/EDQarU+kAePf1Ankf7QFQ080Bfh/ZANLD9QD8VAEF4LgtBBYoCQe1UCkE9dARBxE4EQaEHCEHddgRBi4oCQbz8AUEDNABB0QAHQeEaAkHpeO9AO13sQLkN7kDAk+xAKvTpQKgQ50DQqO5AmJzqQKpa8UBwmdBApfznQA==",
          "dtype": "f4"
         }
        }
       ],
       "layout": {
        "coloraxis": {
         "colorbar": {
          "title": {
           "text": "color"
          }
         },
         "colorscale": [
          [
           0,
           "#0d0887"
          ],
          [
           0.1111111111111111,
           "#46039f"
          ],
          [
           0.2222222222222222,
           "#7201a8"
          ],
          [
           0.3333333333333333,
           "#9c179e"
          ],
          [
           0.4444444444444444,
           "#bd3786"
          ],
          [
           0.5555555555555556,
           "#d8576b"
          ],
          [
           0.6666666666666666,
           "#ed7953"
          ],
          [
           0.7777777777777778,
           "#fb9f3a"
          ],
          [
           0.8888888888888888,
           "#fdca26"
          ],
          [
           1,
           "#f0f921"
          ]
         ]
        },
        "legend": {
         "title": {
          "text": "y"
         },
         "tracegroupgap": 0
        },
        "margin": {
         "t": 60
        },
        "scene": {
         "domain": {
          "x": [
           0,
           1
          ],
          "y": [
           0,
           1
          ]
         },
         "xaxis": {
          "title": {
           "text": "0"
          }
         },
         "yaxis": {
          "title": {
           "text": "1"
          }
         },
         "zaxis": {
          "title": {
           "text": "2"
          }
         }
        },
        "template": {
         "data": {
          "bar": [
           {
            "error_x": {
             "color": "#2a3f5f"
            },
            "error_y": {
             "color": "#2a3f5f"
            },
            "marker": {
             "line": {
              "color": "#E5ECF6",
              "width": 0.5
             },
             "pattern": {
              "fillmode": "overlay",
              "size": 10,
              "solidity": 0.2
             }
            },
            "type": "bar"
           }
          ],
          "barpolar": [
           {
            "marker": {
             "line": {
              "color": "#E5ECF6",
              "width": 0.5
             },
             "pattern": {
              "fillmode": "overlay",
              "size": 10,
              "solidity": 0.2
             }
            },
            "type": "barpolar"
           }
          ],
          "carpet": [
           {
            "aaxis": {
             "endlinecolor": "#2a3f5f",
             "gridcolor": "white",
             "linecolor": "white",
             "minorgridcolor": "white",
             "startlinecolor": "#2a3f5f"
            },
            "baxis": {
             "endlinecolor": "#2a3f5f",
             "gridcolor": "white",
             "linecolor": "white",
             "minorgridcolor": "white",
             "startlinecolor": "#2a3f5f"
            },
            "type": "carpet"
           }
          ],
          "choropleth": [
           {
            "colorbar": {
             "outlinewidth": 0,
             "ticks": ""
            },
            "type": "choropleth"
           }
          ],
          "contour": [
           {
            "colorbar": {
             "outlinewidth": 0,
             "ticks": ""
            },
            "colorscale": [
             [
              0,
              "#0d0887"
             ],
             [
              0.1111111111111111,
              "#46039f"
             ],
             [
              0.2222222222222222,
              "#7201a8"
             ],
             [
              0.3333333333333333,
              "#9c179e"
             ],
             [
              0.4444444444444444,
              "#bd3786"
             ],
             [
              0.5555555555555556,
              "#d8576b"
             ],
             [
              0.6666666666666666,
              "#ed7953"
             ],
             [
              0.7777777777777778,
              "#fb9f3a"
             ],
             [
              0.8888888888888888,
              "#fdca26"
             ],
             [
              1,
              "#f0f921"
             ]
            ],
            "type": "contour"
           }
          ],
          "contourcarpet": [
           {
            "colorbar": {
             "outlinewidth": 0,
             "ticks": ""
            },
            "type": "contourcarpet"
           }
          ],
          "heatmap": [
           {
            "colorbar": {
             "outlinewidth": 0,
             "ticks": ""
            },
            "colorscale": [
             [
              0,
              "#0d0887"
             ],
             [
              0.1111111111111111,
              "#46039f"
             ],
             [
              0.2222222222222222,
              "#7201a8"
             ],
             [
              0.3333333333333333,
              "#9c179e"
             ],
             [
              0.4444444444444444,
              "#bd3786"
             ],
             [
              0.5555555555555556,
              "#d8576b"
             ],
             [
              0.6666666666666666,
              "#ed7953"
             ],
             [
              0.7777777777777778,
              "#fb9f3a"
             ],
             [
              0.8888888888888888,
              "#fdca26"
             ],
             [
              1,
              "#f0f921"
             ]
            ],
            "type": "heatmap"
           }
          ],
          "histogram": [
           {
            "marker": {
             "pattern": {
              "fillmode": "overlay",
              "size": 10,
              "solidity": 0.2
             }
            },
            "type": "histogram"
           }
          ],
          "histogram2d": [
           {
            "colorbar": {
             "outlinewidth": 0,
             "ticks": ""
            },
            "colorscale": [
             [
              0,
              "#0d0887"
             ],
             [
              0.1111111111111111,
              "#46039f"
             ],
             [
              0.2222222222222222,
              "#7201a8"
             ],
             [
              0.3333333333333333,
              "#9c179e"
             ],
             [
              0.4444444444444444,
              "#bd3786"
             ],
             [
              0.5555555555555556,
              "#d8576b"
             ],
             [
              0.6666666666666666,
              "#ed7953"
             ],
             [
              0.7777777777777778,
              "#fb9f3a"
             ],
             [
              0.8888888888888888,
              "#fdca26"
             ],
             [
              1,
              "#f0f921"
             ]
            ],
            "type": "histogram2d"
           }
          ],
          "histogram2dcontour": [
           {
            "colorbar": {
             "outlinewidth": 0,
             "ticks": ""
            },
            "colorscale": [
             [
              0,
              "#0d0887"
             ],
             [
              0.1111111111111111,
              "#46039f"
             ],
             [
              0.2222222222222222,
              "#7201a8"
             ],
             [
              0.3333333333333333,
              "#9c179e"
             ],
             [
              0.4444444444444444,
              "#bd3786"
             ],
             [
              0.5555555555555556,
              "#d8576b"
             ],
             [
              0.6666666666666666,
              "#ed7953"
             ],
             [
              0.7777777777777778,
              "#fb9f3a"
             ],
             [
              0.8888888888888888,
              "#fdca26"
             ],
             [
              1,
              "#f0f921"
             ]
            ],
            "type": "histogram2dcontour"
           }
          ],
          "mesh3d": [
           {
            "colorbar": {
             "outlinewidth": 0,
             "ticks": ""
            },
            "type": "mesh3d"
           }
          ],
          "parcoords": [
           {
            "line": {
             "colorbar": {
              "outlinewidth": 0,
              "ticks": ""
             }
            },
            "type": "parcoords"
           }
          ],
          "pie": [
           {
            "automargin": true,
            "type": "pie"
           }
          ],
          "scatter": [
           {
            "fillpattern": {
             "fillmode": "overlay",
             "size": 10,
             "solidity": 0.2
            },
            "type": "scatter"
           }
          ],
          "scatter3d": [
           {
            "line": {
             "colorbar": {
              "outlinewidth": 0,
              "ticks": ""
             }
            },
            "marker": {
             "colorbar": {
              "outlinewidth": 0,
              "ticks": ""
             }
            },
            "type": "scatter3d"
           }
          ],
          "scattercarpet": [
           {
            "marker": {
             "colorbar": {
              "outlinewidth": 0,
              "ticks": ""
             }
            },
            "type": "scattercarpet"
           }
          ],
          "scattergeo": [
           {
            "marker": {
             "colorbar": {
              "outlinewidth": 0,
              "ticks": ""
             }
            },
            "type": "scattergeo"
           }
          ],
          "scattergl": [
           {
            "marker": {
             "colorbar": {
              "outlinewidth": 0,
              "ticks": ""
             }
            },
            "type": "scattergl"
           }
          ],
          "scattermap": [
           {
            "marker": {
             "colorbar": {
              "outlinewidth": 0,
              "ticks": ""
             }
            },
            "type": "scattermap"
           }
          ],
          "scattermapbox": [
           {
            "marker": {
             "colorbar": {
              "outlinewidth": 0,
              "ticks": ""
             }
            },
            "type": "scattermapbox"
           }
          ],
          "scatterpolar": [
           {
            "marker": {
             "colorbar": {
              "outlinewidth": 0,
              "ticks": ""
             }
            },
            "type": "scatterpolar"
           }
          ],
          "scatterpolargl": [
           {
            "marker": {
             "colorbar": {
              "outlinewidth": 0,
              "ticks": ""
             }
            },
            "type": "scatterpolargl"
           }
          ],
          "scatterternary": [
           {
            "marker": {
             "colorbar": {
              "outlinewidth": 0,
              "ticks": ""
             }
            },
            "type": "scatterternary"
           }
          ],
          "surface": [
           {
            "colorbar": {
             "outlinewidth": 0,
             "ticks": ""
            },
            "colorscale": [
             [
              0,
              "#0d0887"
             ],
             [
              0.1111111111111111,
              "#46039f"
             ],
             [
              0.2222222222222222,
              "#7201a8"
             ],
             [
              0.3333333333333333,
              "#9c179e"
             ],
             [
              0.4444444444444444,
              "#bd3786"
             ],
             [
              0.5555555555555556,
              "#d8576b"
             ],
             [
              0.6666666666666666,
              "#ed7953"
             ],
             [
              0.7777777777777778,
              "#fb9f3a"
             ],
             [
              0.8888888888888888,
              "#fdca26"
             ],
             [
              1,
              "#f0f921"
             ]
            ],
            "type": "surface"
           }
          ],
          "table": [
           {
            "cells": {
             "fill": {
              "color": "#EBF0F8"
             },
             "line": {
              "color": "white"
             }
            },
            "header": {
             "fill": {
              "color": "#C8D4E3"
             },
             "line": {
              "color": "white"
             }
            },
            "type": "table"
           }
          ]
         },
         "layout": {
          "annotationdefaults": {
           "arrowcolor": "#2a3f5f",
           "arrowhead": 0,
           "arrowwidth": 1
          },
          "autotypenumbers": "strict",
          "coloraxis": {
           "colorbar": {
            "outlinewidth": 0,
            "ticks": ""
           }
          },
          "colorscale": {
           "diverging": [
            [
             0,
             "#8e0152"
            ],
            [
             0.1,
             "#c51b7d"
            ],
            [
             0.2,
             "#de77ae"
            ],
            [
             0.3,
             "#f1b6da"
            ],
            [
             0.4,
             "#fde0ef"
            ],
            [
             0.5,
             "#f7f7f7"
            ],
            [
             0.6,
             "#e6f5d0"
            ],
            [
             0.7,
             "#b8e186"
            ],
            [
             0.8,
             "#7fbc41"
            ],
            [
             0.9,
             "#4d9221"
            ],
            [
             1,
             "#276419"
            ]
           ],
           "sequential": [
            [
             0,
             "#0d0887"
            ],
            [
             0.1111111111111111,
             "#46039f"
            ],
            [
             0.2222222222222222,
             "#7201a8"
            ],
            [
             0.3333333333333333,
             "#9c179e"
            ],
            [
             0.4444444444444444,
             "#bd3786"
            ],
            [
             0.5555555555555556,
             "#d8576b"
            ],
            [
             0.6666666666666666,
             "#ed7953"
            ],
            [
             0.7777777777777778,
             "#fb9f3a"
            ],
            [
             0.8888888888888888,
             "#fdca26"
            ],
            [
             1,
             "#f0f921"
            ]
           ],
           "sequentialminus": [
            [
             0,
             "#0d0887"
            ],
            [
             0.1111111111111111,
             "#46039f"
            ],
            [
             0.2222222222222222,
             "#7201a8"
            ],
            [
             0.3333333333333333,
             "#9c179e"
            ],
            [
             0.4444444444444444,
             "#bd3786"
            ],
            [
             0.5555555555555556,
             "#d8576b"
            ],
            [
             0.6666666666666666,
             "#ed7953"
            ],
            [
             0.7777777777777778,
             "#fb9f3a"
            ],
            [
             0.8888888888888888,
             "#fdca26"
            ],
            [
             1,
             "#f0f921"
            ]
           ]
          },
          "colorway": [
           "#636efa",
           "#EF553B",
           "#00cc96",
           "#ab63fa",
           "#FFA15A",
           "#19d3f3",
           "#FF6692",
           "#B6E880",
           "#FF97FF",
           "#FECB52"
          ],
          "font": {
           "color": "#2a3f5f"
          },
          "geo": {
           "bgcolor": "white",
           "lakecolor": "white",
           "landcolor": "#E5ECF6",
           "showlakes": true,
           "showland": true,
           "subunitcolor": "white"
          },
          "hoverlabel": {
           "align": "left"
          },
          "hovermode": "closest",
          "mapbox": {
           "style": "light"
          },
          "paper_bgcolor": "white",
          "plot_bgcolor": "#E5ECF6",
          "polar": {
           "angularaxis": {
            "gridcolor": "white",
            "linecolor": "white",
            "ticks": ""
           },
           "bgcolor": "#E5ECF6",
           "radialaxis": {
            "gridcolor": "white",
            "linecolor": "white",
            "ticks": ""
           }
          },
          "scene": {
           "xaxis": {
            "backgroundcolor": "#E5ECF6",
            "gridcolor": "white",
            "gridwidth": 2,
            "linecolor": "white",
            "showbackground": true,
            "ticks": "",
            "zerolinecolor": "white"
           },
           "yaxis": {
            "backgroundcolor": "#E5ECF6",
            "gridcolor": "white",
            "gridwidth": 2,
            "linecolor": "white",
            "showbackground": true,
            "ticks": "",
            "zerolinecolor": "white"
           },
           "zaxis": {
            "backgroundcolor": "#E5ECF6",
            "gridcolor": "white",
            "gridwidth": 2,
            "linecolor": "white",
            "showbackground": true,
            "ticks": "",
            "zerolinecolor": "white"
           }
          },
          "shapedefaults": {
           "line": {
            "color": "#2a3f5f"
           }
          },
          "ternary": {
           "aaxis": {
            "gridcolor": "white",
            "linecolor": "white",
            "ticks": ""
           },
           "baxis": {
            "gridcolor": "white",
            "linecolor": "white",
            "ticks": ""
           },
           "bgcolor": "#E5ECF6",
           "caxis": {
            "gridcolor": "white",
            "linecolor": "white",
            "ticks": ""
           }
          },
          "title": {
           "x": 0.05
          },
          "xaxis": {
           "automargin": true,
           "gridcolor": "white",
           "linecolor": "white",
           "ticks": "",
           "title": {
            "standoff": 15
           },
           "zerolinecolor": "white",
           "zerolinewidth": 2
          },
          "yaxis": {
           "automargin": true,
           "gridcolor": "white",
           "linecolor": "white",
           "ticks": "",
           "title": {
            "standoff": 15
           },
           "zerolinecolor": "white",
           "zerolinewidth": 2
          }
         }
        },
        "title": {
         "text": "umap_3d_results Projection"
        }
       }
      }
     },
     "metadata": {},
     "output_type": "display_data"
    }
   ],
   "source": [
    "from umap import UMAP\n",
    "umap_3d=UMAP(n_components=3)\n",
    "umap_3d_results=umap_3d.fit_transform(preprocessed_data)\n",
    "fig=px.scatter_3d(\n",
    "    umap_3d_results,x=0,y=1,z=2,color=y\n",
    ")\n",
    "fig.update_layout(\n",
    "    title_text=\"umap_3d_results Projection\",\n",
    "    legend_title_text='y'    \n",
    ")\n",
    "fig.show()"
   ]
  },
  {
   "cell_type": "markdown",
   "id": "a4c9d436",
   "metadata": {},
   "source": [
    "---"
   ]
  }
 ],
 "metadata": {
  "kernelspec": {
   "display_name": "EnvDIMReduction",
   "language": "python",
   "name": "python3"
  },
  "language_info": {
   "codemirror_mode": {
    "name": "ipython",
    "version": 3
   },
   "file_extension": ".py",
   "mimetype": "text/x-python",
   "name": "python",
   "nbconvert_exporter": "python",
   "pygments_lexer": "ipython3",
   "version": "3.8.2"
  }
 },
 "nbformat": 4,
 "nbformat_minor": 5
}
